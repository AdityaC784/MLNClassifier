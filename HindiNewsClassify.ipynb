{
 "cells": [
  {
   "cell_type": "code",
   "execution_count": 1,
   "metadata": {},
   "outputs": [],
   "source": [
    "import numpy as np \n",
    "import pandas as pd \n",
    "import matplotlib.pyplot as plt "
   ]
  },
  {
   "cell_type": "code",
   "execution_count": 2,
   "metadata": {},
   "outputs": [],
   "source": [
    "dataset = pd.read_csv(\"hindi_news_dataset.csv\")\n"
   ]
  },
  {
   "cell_type": "code",
   "execution_count": 3,
   "metadata": {},
   "outputs": [],
   "source": [
    "dataset['News'] = dataset[\"Headline\"] + \" \" + dataset[\"Content\"]\n",
    "dataset = dataset.drop([\"Headline\" , \"Content\" , \"Unnamed: 4\" , \"Unnamed: 5\" , \"Date\"] , axis=1)"
   ]
  },
  {
   "cell_type": "code",
   "execution_count": 4,
   "metadata": {},
   "outputs": [
    {
     "data": {
      "text/html": [
       "<div>\n",
       "<style scoped>\n",
       "    .dataframe tbody tr th:only-of-type {\n",
       "        vertical-align: middle;\n",
       "    }\n",
       "\n",
       "    .dataframe tbody tr th {\n",
       "        vertical-align: top;\n",
       "    }\n",
       "\n",
       "    .dataframe thead th {\n",
       "        text-align: right;\n",
       "    }\n",
       "</style>\n",
       "<table border=\"1\" class=\"dataframe\">\n",
       "  <thead>\n",
       "    <tr style=\"text-align: right;\">\n",
       "      <th></th>\n",
       "      <th>News Categories</th>\n",
       "      <th>News</th>\n",
       "    </tr>\n",
       "  </thead>\n",
       "  <tbody>\n",
       "    <tr>\n",
       "      <th>0</th>\n",
       "      <td>['national']</td>\n",
       "      <td>कांग्रेस नेता बलजिंदर सिंह की पंजाब में घर के ...</td>\n",
       "    </tr>\n",
       "    <tr>\n",
       "      <th>1</th>\n",
       "      <td>['politics', 'national']</td>\n",
       "      <td>केंद्रीय मंत्री बोले- महिला आरक्षण लाने का साह...</td>\n",
       "    </tr>\n",
       "    <tr>\n",
       "      <th>2</th>\n",
       "      <td>['business', 'national']</td>\n",
       "      <td>ओपीएस लागू करने से अस्थिर हो सकती है राज्यों क...</td>\n",
       "    </tr>\n",
       "    <tr>\n",
       "      <th>3</th>\n",
       "      <td>['national']</td>\n",
       "      <td>तमिलनाडु में शावरमा खाने से 14 वर्षीय छात्रा क...</td>\n",
       "    </tr>\n",
       "    <tr>\n",
       "      <th>4</th>\n",
       "      <td>['national']</td>\n",
       "      <td>मणिपुर में मुख्यमंत्री के आश्वासन के बाद मारे ...</td>\n",
       "    </tr>\n",
       "  </tbody>\n",
       "</table>\n",
       "</div>"
      ],
      "text/plain": [
       "            News Categories                                               News\n",
       "0              ['national']  कांग्रेस नेता बलजिंदर सिंह की पंजाब में घर के ...\n",
       "1  ['politics', 'national']  केंद्रीय मंत्री बोले- महिला आरक्षण लाने का साह...\n",
       "2  ['business', 'national']  ओपीएस लागू करने से अस्थिर हो सकती है राज्यों क...\n",
       "3              ['national']  तमिलनाडु में शावरमा खाने से 14 वर्षीय छात्रा क...\n",
       "4              ['national']  मणिपुर में मुख्यमंत्री के आश्वासन के बाद मारे ..."
      ]
     },
     "execution_count": 4,
     "metadata": {},
     "output_type": "execute_result"
    }
   ],
   "source": [
    "dataset.head()"
   ]
  },
  {
   "cell_type": "code",
   "execution_count": 5,
   "metadata": {},
   "outputs": [
    {
     "data": {
      "text/plain": [
       "(185511, 2)"
      ]
     },
     "execution_count": 5,
     "metadata": {},
     "output_type": "execute_result"
    }
   ],
   "source": [
    "dataset.shape"
   ]
  },
  {
   "cell_type": "code",
   "execution_count": 6,
   "metadata": {},
   "outputs": [
    {
     "data": {
      "text/plain": [
       "News Categories\n",
       "['entertainment']                                19478\n",
       "['national']                                     16303\n",
       "['politics', 'national']                         16030\n",
       "['miscellaneous']                                15971\n",
       "['business']                                     14411\n",
       "['world']                                        13806\n",
       "['technology']                                   13608\n",
       "['sports']                                        7924\n",
       "['world', 'national']                             7338\n",
       "['sports', 'आईपीएल_2024']                         4921\n",
       "['politics', 'national', 'लोकसभा_चुनाव_2024']     3916\n",
       "['national', 'technology']                        3815\n",
       "['business', 'national']                          3789\n",
       "['politics']                                      3635\n",
       "['विश्व_कप_2023', 'sports']                       3378\n",
       "Name: count, dtype: int64"
      ]
     },
     "execution_count": 6,
     "metadata": {},
     "output_type": "execute_result"
    }
   ],
   "source": [
    "dataset[\"News Categories\"].value_counts().head(15)"
   ]
  },
  {
   "cell_type": "code",
   "execution_count": 7,
   "metadata": {},
   "outputs": [],
   "source": [
    "top9_categories = dataset[\"News Categories\"].value_counts().head(9).index.tolist()\n"
   ]
  },
  {
   "cell_type": "code",
   "execution_count": 8,
   "metadata": {},
   "outputs": [
    {
     "name": "stdout",
     "output_type": "stream",
     "text": [
      "[\"['entertainment']\", \"['national']\", \"['politics', 'national']\", \"['miscellaneous']\", \"['business']\", \"['world']\", \"['technology']\", \"['sports']\", \"['world', 'national']\"]\n"
     ]
    }
   ],
   "source": [
    "print(top9_categories)"
   ]
  },
  {
   "cell_type": "code",
   "execution_count": 9,
   "metadata": {},
   "outputs": [],
   "source": [
    "dataset = dataset[dataset['News Categories'].isin(top9_categories)]"
   ]
  },
  {
   "cell_type": "code",
   "execution_count": 10,
   "metadata": {},
   "outputs": [
    {
     "data": {
      "text/html": [
       "<div>\n",
       "<style scoped>\n",
       "    .dataframe tbody tr th:only-of-type {\n",
       "        vertical-align: middle;\n",
       "    }\n",
       "\n",
       "    .dataframe tbody tr th {\n",
       "        vertical-align: top;\n",
       "    }\n",
       "\n",
       "    .dataframe thead th {\n",
       "        text-align: right;\n",
       "    }\n",
       "</style>\n",
       "<table border=\"1\" class=\"dataframe\">\n",
       "  <thead>\n",
       "    <tr style=\"text-align: right;\">\n",
       "      <th></th>\n",
       "      <th>News Categories</th>\n",
       "      <th>News</th>\n",
       "    </tr>\n",
       "  </thead>\n",
       "  <tbody>\n",
       "    <tr>\n",
       "      <th>0</th>\n",
       "      <td>['national']</td>\n",
       "      <td>कांग्रेस नेता बलजिंदर सिंह की पंजाब में घर के ...</td>\n",
       "    </tr>\n",
       "    <tr>\n",
       "      <th>1</th>\n",
       "      <td>['politics', 'national']</td>\n",
       "      <td>केंद्रीय मंत्री बोले- महिला आरक्षण लाने का साह...</td>\n",
       "    </tr>\n",
       "    <tr>\n",
       "      <th>3</th>\n",
       "      <td>['national']</td>\n",
       "      <td>तमिलनाडु में शावरमा खाने से 14 वर्षीय छात्रा क...</td>\n",
       "    </tr>\n",
       "    <tr>\n",
       "      <th>4</th>\n",
       "      <td>['national']</td>\n",
       "      <td>मणिपुर में मुख्यमंत्री के आश्वासन के बाद मारे ...</td>\n",
       "    </tr>\n",
       "    <tr>\n",
       "      <th>5</th>\n",
       "      <td>['national']</td>\n",
       "      <td>लोकसभा और विधानसभाओं में महिलाओं को 33% आरक्षण...</td>\n",
       "    </tr>\n",
       "  </tbody>\n",
       "</table>\n",
       "</div>"
      ],
      "text/plain": [
       "            News Categories                                               News\n",
       "0              ['national']  कांग्रेस नेता बलजिंदर सिंह की पंजाब में घर के ...\n",
       "1  ['politics', 'national']  केंद्रीय मंत्री बोले- महिला आरक्षण लाने का साह...\n",
       "3              ['national']  तमिलनाडु में शावरमा खाने से 14 वर्षीय छात्रा क...\n",
       "4              ['national']  मणिपुर में मुख्यमंत्री के आश्वासन के बाद मारे ...\n",
       "5              ['national']  लोकसभा और विधानसभाओं में महिलाओं को 33% आरक्षण..."
      ]
     },
     "execution_count": 10,
     "metadata": {},
     "output_type": "execute_result"
    }
   ],
   "source": [
    "dataset.head()"
   ]
  },
  {
   "cell_type": "code",
   "execution_count": 11,
   "metadata": {},
   "outputs": [
    {
     "data": {
      "text/plain": [
       "(124869, 2)"
      ]
     },
     "execution_count": 11,
     "metadata": {},
     "output_type": "execute_result"
    }
   ],
   "source": [
    "dataset.shape"
   ]
  },
  {
   "cell_type": "code",
   "execution_count": 12,
   "metadata": {},
   "outputs": [
    {
     "data": {
      "text/plain": [
       "<bound method NDFrame.head of News Categories\n",
       "['entertainment']           19478\n",
       "['national']                16303\n",
       "['politics', 'national']    16030\n",
       "['miscellaneous']           15971\n",
       "['business']                14411\n",
       "['world']                   13806\n",
       "['technology']              13608\n",
       "['sports']                   7924\n",
       "['world', 'national']        7338\n",
       "Name: count, dtype: int64>"
      ]
     },
     "execution_count": 12,
     "metadata": {},
     "output_type": "execute_result"
    }
   ],
   "source": [
    "dataset[\"News Categories\"].value_counts().head"
   ]
  },
  {
   "cell_type": "code",
   "execution_count": 13,
   "metadata": {},
   "outputs": [],
   "source": [
    "dataset = dataset.sample(frac = 1).reset_index(drop = True)"
   ]
  },
  {
   "cell_type": "code",
   "execution_count": 14,
   "metadata": {},
   "outputs": [
    {
     "data": {
      "text/html": [
       "<div>\n",
       "<style scoped>\n",
       "    .dataframe tbody tr th:only-of-type {\n",
       "        vertical-align: middle;\n",
       "    }\n",
       "\n",
       "    .dataframe tbody tr th {\n",
       "        vertical-align: top;\n",
       "    }\n",
       "\n",
       "    .dataframe thead th {\n",
       "        text-align: right;\n",
       "    }\n",
       "</style>\n",
       "<table border=\"1\" class=\"dataframe\">\n",
       "  <thead>\n",
       "    <tr style=\"text-align: right;\">\n",
       "      <th></th>\n",
       "      <th>News Categories</th>\n",
       "      <th>News</th>\n",
       "    </tr>\n",
       "  </thead>\n",
       "  <tbody>\n",
       "    <tr>\n",
       "      <th>0</th>\n",
       "      <td>['world']</td>\n",
       "      <td>शर्मिंदगी भरा है: नाज़ियों की तरफ से लड़ने वाले ...</td>\n",
       "    </tr>\n",
       "    <tr>\n",
       "      <th>1</th>\n",
       "      <td>['technology']</td>\n",
       "      <td>नासा द्वारा शेयर की गई तस्वीर में प्लूटो पर दि...</td>\n",
       "    </tr>\n",
       "    <tr>\n",
       "      <th>2</th>\n",
       "      <td>['entertainment']</td>\n",
       "      <td>Vikrant Massey ने बेटे के साथ मनाया फादर्स डे,...</td>\n",
       "    </tr>\n",
       "    <tr>\n",
       "      <th>3</th>\n",
       "      <td>['national']</td>\n",
       "      <td>जिम में वर्कआउट करते समय हार्ट अटैक आने के बाद...</td>\n",
       "    </tr>\n",
       "    <tr>\n",
       "      <th>4</th>\n",
       "      <td>['politics', 'national']</td>\n",
       "      <td>आयातित माल बर्दाश्त नहीं, अध्यक्ष संगठन के मूल...</td>\n",
       "    </tr>\n",
       "  </tbody>\n",
       "</table>\n",
       "</div>"
      ],
      "text/plain": [
       "            News Categories                                               News\n",
       "0                 ['world']  शर्मिंदगी भरा है: नाज़ियों की तरफ से लड़ने वाले ...\n",
       "1            ['technology']  नासा द्वारा शेयर की गई तस्वीर में प्लूटो पर दि...\n",
       "2         ['entertainment']  Vikrant Massey ने बेटे के साथ मनाया फादर्स डे,...\n",
       "3              ['national']  जिम में वर्कआउट करते समय हार्ट अटैक आने के बाद...\n",
       "4  ['politics', 'national']  आयातित माल बर्दाश्त नहीं, अध्यक्ष संगठन के मूल..."
      ]
     },
     "execution_count": 14,
     "metadata": {},
     "output_type": "execute_result"
    }
   ],
   "source": [
    "dataset.head()"
   ]
  },
  {
   "cell_type": "code",
   "execution_count": 15,
   "metadata": {},
   "outputs": [
    {
     "data": {
      "text/plain": [
       "(124869, 2)"
      ]
     },
     "execution_count": 15,
     "metadata": {},
     "output_type": "execute_result"
    }
   ],
   "source": [
    "dataset.shape"
   ]
  },
  {
   "cell_type": "code",
   "execution_count": 16,
   "metadata": {},
   "outputs": [
    {
     "name": "stdout",
     "output_type": "stream",
     "text": [
      "0          9\n",
      "1         14\n",
      "2         17\n",
      "3         12\n",
      "4         24\n",
      "          ..\n",
      "124864     9\n",
      "124865     9\n",
      "124866    12\n",
      "124867    24\n",
      "124868    12\n",
      "Name: News Categories, Length: 124869, dtype: int64\n"
     ]
    }
   ],
   "source": [
    "print(dataset['News Categories'].apply(len))"
   ]
  },
  {
   "cell_type": "code",
   "execution_count": 17,
   "metadata": {},
   "outputs": [
    {
     "name": "stdout",
     "output_type": "stream",
     "text": [
      "0         <class 'str'>\n",
      "1         <class 'str'>\n",
      "2         <class 'str'>\n",
      "3         <class 'str'>\n",
      "4         <class 'str'>\n",
      "              ...      \n",
      "124864    <class 'str'>\n",
      "124865    <class 'str'>\n",
      "124866    <class 'str'>\n",
      "124867    <class 'str'>\n",
      "124868    <class 'str'>\n",
      "Name: News Categories, Length: 124869, dtype: object\n"
     ]
    }
   ],
   "source": [
    "print(dataset['News Categories'].apply(type))"
   ]
  },
  {
   "cell_type": "code",
   "execution_count": 18,
   "metadata": {},
   "outputs": [],
   "source": [
    "import ast"
   ]
  },
  {
   "cell_type": "code",
   "execution_count": 19,
   "metadata": {},
   "outputs": [],
   "source": [
    "# Step 2: Convert string representations of lists to actual lists\n",
    "dataset['News Categories'] = dataset['News Categories'].apply(ast.literal_eval)\n",
    "\n"
   ]
  },
  {
   "cell_type": "code",
   "execution_count": 20,
   "metadata": {},
   "outputs": [
    {
     "name": "stdout",
     "output_type": "stream",
     "text": [
      "0         <class 'list'>\n",
      "1         <class 'list'>\n",
      "2         <class 'list'>\n",
      "3         <class 'list'>\n",
      "4         <class 'list'>\n",
      "               ...      \n",
      "124864    <class 'list'>\n",
      "124865    <class 'list'>\n",
      "124866    <class 'list'>\n",
      "124867    <class 'list'>\n",
      "124868    <class 'list'>\n",
      "Name: News Categories, Length: 124869, dtype: object\n"
     ]
    }
   ],
   "source": [
    "print(dataset['News Categories'].apply(type))"
   ]
  },
  {
   "cell_type": "code",
   "execution_count": 21,
   "metadata": {},
   "outputs": [],
   "source": [
    "dataset['News Categories'] = dataset['News Categories'].apply(lambda x: ', '.join(x))"
   ]
  },
  {
   "cell_type": "code",
   "execution_count": 22,
   "metadata": {},
   "outputs": [
    {
     "name": "stdout",
     "output_type": "stream",
     "text": [
      "0         <class 'str'>\n",
      "1         <class 'str'>\n",
      "2         <class 'str'>\n",
      "3         <class 'str'>\n",
      "4         <class 'str'>\n",
      "              ...      \n",
      "124864    <class 'str'>\n",
      "124865    <class 'str'>\n",
      "124866    <class 'str'>\n",
      "124867    <class 'str'>\n",
      "124868    <class 'str'>\n",
      "Name: News Categories, Length: 124869, dtype: object\n"
     ]
    }
   ],
   "source": [
    "print(dataset['News Categories'].apply(type))"
   ]
  },
  {
   "cell_type": "code",
   "execution_count": 23,
   "metadata": {},
   "outputs": [
    {
     "data": {
      "text/html": [
       "<div>\n",
       "<style scoped>\n",
       "    .dataframe tbody tr th:only-of-type {\n",
       "        vertical-align: middle;\n",
       "    }\n",
       "\n",
       "    .dataframe tbody tr th {\n",
       "        vertical-align: top;\n",
       "    }\n",
       "\n",
       "    .dataframe thead th {\n",
       "        text-align: right;\n",
       "    }\n",
       "</style>\n",
       "<table border=\"1\" class=\"dataframe\">\n",
       "  <thead>\n",
       "    <tr style=\"text-align: right;\">\n",
       "      <th></th>\n",
       "      <th>News Categories</th>\n",
       "      <th>News</th>\n",
       "    </tr>\n",
       "  </thead>\n",
       "  <tbody>\n",
       "    <tr>\n",
       "      <th>0</th>\n",
       "      <td>world</td>\n",
       "      <td>शर्मिंदगी भरा है: नाज़ियों की तरफ से लड़ने वाले ...</td>\n",
       "    </tr>\n",
       "    <tr>\n",
       "      <th>1</th>\n",
       "      <td>technology</td>\n",
       "      <td>नासा द्वारा शेयर की गई तस्वीर में प्लूटो पर दि...</td>\n",
       "    </tr>\n",
       "    <tr>\n",
       "      <th>2</th>\n",
       "      <td>entertainment</td>\n",
       "      <td>Vikrant Massey ने बेटे के साथ मनाया फादर्स डे,...</td>\n",
       "    </tr>\n",
       "    <tr>\n",
       "      <th>3</th>\n",
       "      <td>national</td>\n",
       "      <td>जिम में वर्कआउट करते समय हार्ट अटैक आने के बाद...</td>\n",
       "    </tr>\n",
       "    <tr>\n",
       "      <th>4</th>\n",
       "      <td>politics, national</td>\n",
       "      <td>आयातित माल बर्दाश्त नहीं, अध्यक्ष संगठन के मूल...</td>\n",
       "    </tr>\n",
       "  </tbody>\n",
       "</table>\n",
       "</div>"
      ],
      "text/plain": [
       "      News Categories                                               News\n",
       "0               world  शर्मिंदगी भरा है: नाज़ियों की तरफ से लड़ने वाले ...\n",
       "1          technology  नासा द्वारा शेयर की गई तस्वीर में प्लूटो पर दि...\n",
       "2       entertainment  Vikrant Massey ने बेटे के साथ मनाया फादर्स डे,...\n",
       "3            national  जिम में वर्कआउट करते समय हार्ट अटैक आने के बाद...\n",
       "4  politics, national  आयातित माल बर्दाश्त नहीं, अध्यक्ष संगठन के मूल..."
      ]
     },
     "execution_count": 23,
     "metadata": {},
     "output_type": "execute_result"
    }
   ],
   "source": [
    "dataset.head()\n"
   ]
  },
  {
   "cell_type": "code",
   "execution_count": 24,
   "metadata": {},
   "outputs": [
    {
     "data": {
      "text/plain": [
       "(124869, 2)"
      ]
     },
     "execution_count": 24,
     "metadata": {},
     "output_type": "execute_result"
    }
   ],
   "source": [
    "dataset.shape"
   ]
  },
  {
   "cell_type": "code",
   "execution_count": 25,
   "metadata": {},
   "outputs": [
    {
     "data": {
      "text/plain": [
       "<bound method NDFrame.head of News Categories\n",
       "entertainment         19478\n",
       "national              16303\n",
       "politics, national    16030\n",
       "miscellaneous         15971\n",
       "business              14411\n",
       "world                 13806\n",
       "technology            13608\n",
       "sports                 7924\n",
       "world, national        7338\n",
       "Name: count, dtype: int64>"
      ]
     },
     "execution_count": 25,
     "metadata": {},
     "output_type": "execute_result"
    }
   ],
   "source": [
    "dataset[\"News Categories\"].value_counts().head"
   ]
  },
  {
   "cell_type": "code",
   "execution_count": 26,
   "metadata": {},
   "outputs": [],
   "source": [
    "filtered_dataset = dataset[dataset['News Categories'].str.count(',') == 0]"
   ]
  },
  {
   "cell_type": "code",
   "execution_count": 27,
   "metadata": {},
   "outputs": [
    {
     "name": "stdout",
     "output_type": "stream",
     "text": [
      "       News Categories                                               News\n",
      "0                world  शर्मिंदगी भरा है: नाज़ियों की तरफ से लड़ने वाले ...\n",
      "1           technology  नासा द्वारा शेयर की गई तस्वीर में प्लूटो पर दि...\n",
      "2        entertainment  Vikrant Massey ने बेटे के साथ मनाया फादर्स डे,...\n",
      "3             national  जिम में वर्कआउट करते समय हार्ट अटैक आने के बाद...\n",
      "5             national  छत्तीसगढ़ में सुरक्षाबलों संग मुठभेड़ में मारे...\n",
      "...                ...                                                ...\n",
      "124863   miscellaneous  क्या था 'केबीसी 15' में ₹7 करोड़ का सवाल जिसका...\n",
      "124864           world  कपल ने इज़रायल में युद्ध के बीच सेना के साथ जु...\n",
      "124865           world  अमेरिकी राष्ट्रपति बाइडन की तरह मज़ाक की पात्र ...\n",
      "124866        business  बाज़ार पूंजीकरण के लिहाज़ से भारत के सबसे बड़े...\n",
      "124868        business  पेटीएम ने निकाले गए कर्मचारियों से बोनस वापस म...\n",
      "\n",
      "[101501 rows x 2 columns]\n"
     ]
    },
    {
     "data": {
      "text/plain": [
       "(101501, 2)"
      ]
     },
     "execution_count": 27,
     "metadata": {},
     "output_type": "execute_result"
    }
   ],
   "source": [
    "print(filtered_dataset)\n",
    "filtered_dataset.shape"
   ]
  },
  {
   "cell_type": "code",
   "execution_count": 28,
   "metadata": {},
   "outputs": [],
   "source": [
    "shuffled_dataset = filtered_dataset.sample(frac=1).reset_index(drop=True)"
   ]
  },
  {
   "cell_type": "code",
   "execution_count": 29,
   "metadata": {},
   "outputs": [
    {
     "data": {
      "text/html": [
       "<div>\n",
       "<style scoped>\n",
       "    .dataframe tbody tr th:only-of-type {\n",
       "        vertical-align: middle;\n",
       "    }\n",
       "\n",
       "    .dataframe tbody tr th {\n",
       "        vertical-align: top;\n",
       "    }\n",
       "\n",
       "    .dataframe thead th {\n",
       "        text-align: right;\n",
       "    }\n",
       "</style>\n",
       "<table border=\"1\" class=\"dataframe\">\n",
       "  <thead>\n",
       "    <tr style=\"text-align: right;\">\n",
       "      <th></th>\n",
       "      <th>News Categories</th>\n",
       "      <th>News</th>\n",
       "    </tr>\n",
       "  </thead>\n",
       "  <tbody>\n",
       "    <tr>\n",
       "      <th>0</th>\n",
       "      <td>national</td>\n",
       "      <td>पटना हाईकोर्ट ने कोचिंग संस्थान के संचालन के स...</td>\n",
       "    </tr>\n",
       "    <tr>\n",
       "      <th>1</th>\n",
       "      <td>national</td>\n",
       "      <td>अफसोस है: यूपीए सरकार में महिला आरक्षण बिल में...</td>\n",
       "    </tr>\n",
       "    <tr>\n",
       "      <th>2</th>\n",
       "      <td>business</td>\n",
       "      <td>जेट एयरवेज़ के संस्थापक नरेश गोयल को 11 सितंबर ...</td>\n",
       "    </tr>\n",
       "    <tr>\n",
       "      <th>3</th>\n",
       "      <td>national</td>\n",
       "      <td>आज़म खान, उनकी पत्नी व बेटे को फर्ज़ी जन्म प्र...</td>\n",
       "    </tr>\n",
       "    <tr>\n",
       "      <th>4</th>\n",
       "      <td>world</td>\n",
       "      <td>हमारी सैकड़ों मिसाइलें हवा में दिखाई देंगी, एक...</td>\n",
       "    </tr>\n",
       "  </tbody>\n",
       "</table>\n",
       "</div>"
      ],
      "text/plain": [
       "  News Categories                                               News\n",
       "0        national  पटना हाईकोर्ट ने कोचिंग संस्थान के संचालन के स...\n",
       "1        national  अफसोस है: यूपीए सरकार में महिला आरक्षण बिल में...\n",
       "2        business  जेट एयरवेज़ के संस्थापक नरेश गोयल को 11 सितंबर ...\n",
       "3        national  आज़म खान, उनकी पत्नी व बेटे को फर्ज़ी जन्म प्र...\n",
       "4           world  हमारी सैकड़ों मिसाइलें हवा में दिखाई देंगी, एक..."
      ]
     },
     "execution_count": 29,
     "metadata": {},
     "output_type": "execute_result"
    }
   ],
   "source": [
    "shuffled_dataset.head()"
   ]
  },
  {
   "cell_type": "code",
   "execution_count": 30,
   "metadata": {},
   "outputs": [
    {
     "data": {
      "text/plain": [
       "(101501, 2)"
      ]
     },
     "execution_count": 30,
     "metadata": {},
     "output_type": "execute_result"
    }
   ],
   "source": [
    "shuffled_dataset.shape"
   ]
  },
  {
   "cell_type": "code",
   "execution_count": 31,
   "metadata": {},
   "outputs": [],
   "source": [
    "dataset = shuffled_dataset"
   ]
  },
  {
   "cell_type": "code",
   "execution_count": 32,
   "metadata": {},
   "outputs": [
    {
     "data": {
      "text/plain": [
       "<bound method NDFrame.head of News Categories\n",
       "entertainment    19478\n",
       "national         16303\n",
       "miscellaneous    15971\n",
       "business         14411\n",
       "world            13806\n",
       "technology       13608\n",
       "sports            7924\n",
       "Name: count, dtype: int64>"
      ]
     },
     "execution_count": 32,
     "metadata": {},
     "output_type": "execute_result"
    }
   ],
   "source": [
    "dataset[\"News Categories\"].value_counts().head"
   ]
  },
  {
   "cell_type": "code",
   "execution_count": 33,
   "metadata": {},
   "outputs": [
    {
     "data": {
      "text/html": [
       "<div>\n",
       "<style scoped>\n",
       "    .dataframe tbody tr th:only-of-type {\n",
       "        vertical-align: middle;\n",
       "    }\n",
       "\n",
       "    .dataframe tbody tr th {\n",
       "        vertical-align: top;\n",
       "    }\n",
       "\n",
       "    .dataframe thead th {\n",
       "        text-align: right;\n",
       "    }\n",
       "</style>\n",
       "<table border=\"1\" class=\"dataframe\">\n",
       "  <thead>\n",
       "    <tr style=\"text-align: right;\">\n",
       "      <th></th>\n",
       "      <th>News Categories</th>\n",
       "      <th>News</th>\n",
       "    </tr>\n",
       "  </thead>\n",
       "  <tbody>\n",
       "    <tr>\n",
       "      <th>0</th>\n",
       "      <td>5</td>\n",
       "      <td>पटना हाईकोर्ट ने कोचिंग संस्थान के संचालन के स...</td>\n",
       "    </tr>\n",
       "    <tr>\n",
       "      <th>1</th>\n",
       "      <td>5</td>\n",
       "      <td>अफसोस है: यूपीए सरकार में महिला आरक्षण बिल में...</td>\n",
       "    </tr>\n",
       "    <tr>\n",
       "      <th>2</th>\n",
       "      <td>3</td>\n",
       "      <td>जेट एयरवेज़ के संस्थापक नरेश गोयल को 11 सितंबर ...</td>\n",
       "    </tr>\n",
       "    <tr>\n",
       "      <th>3</th>\n",
       "      <td>5</td>\n",
       "      <td>आज़म खान, उनकी पत्नी व बेटे को फर्ज़ी जन्म प्र...</td>\n",
       "    </tr>\n",
       "    <tr>\n",
       "      <th>4</th>\n",
       "      <td>1</td>\n",
       "      <td>हमारी सैकड़ों मिसाइलें हवा में दिखाई देंगी, एक...</td>\n",
       "    </tr>\n",
       "    <tr>\n",
       "      <th>5</th>\n",
       "      <td>1</td>\n",
       "      <td>हमारी सैकड़ों मिसाइलें हवा में दिखाई देंगी, एक...</td>\n",
       "    </tr>\n",
       "    <tr>\n",
       "      <th>6</th>\n",
       "      <td>0</td>\n",
       "      <td>देव आनंद की जयंती पर पीएम ने शेयर कीं तस्वीरें...</td>\n",
       "    </tr>\n",
       "    <tr>\n",
       "      <th>7</th>\n",
       "      <td>4</td>\n",
       "      <td>भारत में जनवरी माह में बैन किए गए 67 लाख वॉट्स...</td>\n",
       "    </tr>\n",
       "    <tr>\n",
       "      <th>8</th>\n",
       "      <td>5</td>\n",
       "      <td>गरबा करते वक्त गुजरात में 24 घंटों के भीतर हार...</td>\n",
       "    </tr>\n",
       "    <tr>\n",
       "      <th>9</th>\n",
       "      <td>0</td>\n",
       "      <td>फिल्म इंडस्ट्री में बहुत प्रतिस्पर्धा है लेकिन...</td>\n",
       "    </tr>\n",
       "  </tbody>\n",
       "</table>\n",
       "</div>"
      ],
      "text/plain": [
       "  News Categories                                               News\n",
       "0               5  पटना हाईकोर्ट ने कोचिंग संस्थान के संचालन के स...\n",
       "1               5  अफसोस है: यूपीए सरकार में महिला आरक्षण बिल में...\n",
       "2               3  जेट एयरवेज़ के संस्थापक नरेश गोयल को 11 सितंबर ...\n",
       "3               5  आज़म खान, उनकी पत्नी व बेटे को फर्ज़ी जन्म प्र...\n",
       "4               1  हमारी सैकड़ों मिसाइलें हवा में दिखाई देंगी, एक...\n",
       "5               1  हमारी सैकड़ों मिसाइलें हवा में दिखाई देंगी, एक...\n",
       "6               0  देव आनंद की जयंती पर पीएम ने शेयर कीं तस्वीरें...\n",
       "7               4  भारत में जनवरी माह में बैन किए गए 67 लाख वॉट्स...\n",
       "8               5  गरबा करते वक्त गुजरात में 24 घंटों के भीतर हार...\n",
       "9               0  फिल्म इंडस्ट्री में बहुत प्रतिस्पर्धा है लेकिन..."
      ]
     },
     "execution_count": 33,
     "metadata": {},
     "output_type": "execute_result"
    }
   ],
   "source": [
    "News_Categories = ['entertainment', 'world' , 'sports' , 'business' , 'technology', 'national', 'miscellaneous']\n",
    "\n",
    "pd.set_option('future.no_silent_downcasting', True)\n",
    "dataset[\"News Categories\"] = dataset[\"News Categories\"].replace( News_Categories, [0,1,2,3,4,5,6] )\n",
    "\n",
    "dataset.head(10)"
   ]
  },
  {
   "cell_type": "code",
   "execution_count": 34,
   "metadata": {},
   "outputs": [],
   "source": [
    "import re\n"
   ]
  },
  {
   "cell_type": "code",
   "execution_count": 35,
   "metadata": {},
   "outputs": [],
   "source": [
    "def remove_extra_whitespace(text):\n",
    "    return re.sub(r'\\s+', ' ', text).strip()\n",
    "\n",
    "dataset['News'] = dataset['News'].apply(remove_extra_whitespace)\n"
   ]
  },
  {
   "cell_type": "code",
   "execution_count": 36,
   "metadata": {},
   "outputs": [
    {
     "data": {
      "text/plain": [
       "<bound method NDFrame.head of        News Categories                                               News\n",
       "0                    5  पटना हाईकोर्ट ने कोचिंग संस्थान के संचालन के स...\n",
       "1                    5  अफसोस है: यूपीए सरकार में महिला आरक्षण बिल में...\n",
       "2                    3  जेट एयरवेज़ के संस्थापक नरेश गोयल को 11 सितंबर ...\n",
       "3                    5  आज़म खान, उनकी पत्नी व बेटे को फर्ज़ी जन्म प्र...\n",
       "4                    1  हमारी सैकड़ों मिसाइलें हवा में दिखाई देंगी, एक...\n",
       "...                ...                                                ...\n",
       "101496               5  बिहार में दुकानदार द्वारा उधार के ₹100 मांगने ...\n",
       "101497               0  इंतज़ार के लिए माफी मांगता हूं: बॉलीवुड में वाप...\n",
       "101498               1  चीन की धमकियों के बाद अमेरिका ने ताइवान के लिए...\n",
       "101499               0  मैं पत्थर की नहीं बनी हूं: ऋतिक के साथ रिश्ता ...\n",
       "101500               1  अमेरिका में 13 वर्षीय लड़के ने दिखाई नकली बंदू...\n",
       "\n",
       "[101501 rows x 2 columns]>"
      ]
     },
     "execution_count": 36,
     "metadata": {},
     "output_type": "execute_result"
    }
   ],
   "source": [
    "dataset.head"
   ]
  },
  {
   "cell_type": "code",
   "execution_count": 37,
   "metadata": {},
   "outputs": [],
   "source": [
    "def remove_special_characters(text):\n",
    "    # Remove characters that are not Hindi script or whitespace\n",
    "    pattern = r'[^\\u0900-\\u097F\\s]'\n",
    "    return re.sub(pattern, '', text)\n",
    "\n",
    "dataset['News'] = dataset['News'].apply(remove_special_characters)\n"
   ]
  },
  {
   "cell_type": "code",
   "execution_count": 38,
   "metadata": {},
   "outputs": [
    {
     "name": "stdout",
     "output_type": "stream",
     "text": [
      "    नमस्ते। ये एक उदाहरण है।\n"
     ]
    }
   ],
   "source": [
    "\n",
    "\n",
    "text = \"Sample text: Hello! 1234. नमस्ते। ये एक उदाहरण है।\"\n",
    "\n",
    "cleaned_text = remove_special_characters(text)\n",
    "print(cleaned_text)"
   ]
  },
  {
   "cell_type": "code",
   "execution_count": 39,
   "metadata": {},
   "outputs": [
    {
     "data": {
      "text/plain": [
       "<bound method NDFrame.head of        News Categories                                               News\n",
       "0                    5  पटना हाईकोर्ट ने कोचिंग संस्थान के संचालन के स...\n",
       "1                    5  अफसोस है यूपीए सरकार में महिला आरक्षण बिल में ...\n",
       "2                    3  जेट एयरवेज़ के संस्थापक नरेश गोयल को  सितंबर तक...\n",
       "3                    5  आज़म खान उनकी पत्नी व बेटे को फर्ज़ी जन्म प्रम...\n",
       "4                    1  हमारी सैकड़ों मिसाइलें हवा में दिखाई देंगी एक ...\n",
       "...                ...                                                ...\n",
       "101496               5  बिहार में दुकानदार द्वारा उधार के  मांगने पर फ...\n",
       "101497               0  इंतज़ार के लिए माफी मांगता हूं बॉलीवुड में वापस...\n",
       "101498               1  चीन की धमकियों के बाद अमेरिका ने ताइवान के लिए...\n",
       "101499               0  मैं पत्थर की नहीं बनी हूं ऋतिक के साथ रिश्ता स...\n",
       "101500               1  अमेरिका में  वर्षीय लड़के ने दिखाई नकली बंदूक ...\n",
       "\n",
       "[101501 rows x 2 columns]>"
      ]
     },
     "execution_count": 39,
     "metadata": {},
     "output_type": "execute_result"
    }
   ],
   "source": [
    "dataset.head"
   ]
  },
  {
   "cell_type": "code",
   "execution_count": 40,
   "metadata": {},
   "outputs": [],
   "source": [
    "import unicodedata\n",
    "\n",
    "def normalize_unicode(text):\n",
    "    return unicodedata.normalize('NFKC', text)\n",
    "\n",
    "dataset['News'] = dataset['News'].apply(normalize_unicode)"
   ]
  },
  {
   "cell_type": "code",
   "execution_count": 41,
   "metadata": {},
   "outputs": [
    {
     "data": {
      "text/plain": [
       "<bound method NDFrame.head of        News Categories                                               News\n",
       "0                    5  पटना हाईकोर्ट ने कोचिंग संस्थान के संचालन के स...\n",
       "1                    5  अफसोस है यूपीए सरकार में महिला आरक्षण बिल में ...\n",
       "2                    3  जेट एयरवेज़ के संस्थापक नरेश गोयल को  सितंबर त...\n",
       "3                    5  आज़म खान उनकी पत्नी व बेटे को फर्ज़ी जन्म प्रम...\n",
       "4                    1  हमारी सैकड़ों मिसाइलें हवा में दिखाई देंगी एक ...\n",
       "...                ...                                                ...\n",
       "101496               5  बिहार में दुकानदार द्वारा उधार के  मांगने पर फ...\n",
       "101497               0  इंतज़ार के लिए माफी मांगता हूं बॉलीवुड में वाप...\n",
       "101498               1  चीन की धमकियों के बाद अमेरिका ने ताइवान के लिए...\n",
       "101499               0  मैं पत्थर की नहीं बनी हूं ऋतिक के साथ रिश्ता स...\n",
       "101500               1  अमेरिका में  वर्षीय लड़के ने दिखाई नकली बंदूक ...\n",
       "\n",
       "[101501 rows x 2 columns]>"
      ]
     },
     "execution_count": 41,
     "metadata": {},
     "output_type": "execute_result"
    }
   ],
   "source": [
    "dataset.head"
   ]
  },
  {
   "cell_type": "code",
   "execution_count": 42,
   "metadata": {},
   "outputs": [],
   "source": [
    "from bs4 import BeautifulSoup"
   ]
  },
  {
   "cell_type": "code",
   "execution_count": 43,
   "metadata": {},
   "outputs": [],
   "source": [
    "def remove_html_tags(text):\n",
    "    soup = BeautifulSoup(text, \"html.parser\")\n",
    "    return soup.get_text()\n",
    "\n",
    "dataset['News'] = dataset['News'].apply(remove_html_tags)"
   ]
  },
  {
   "cell_type": "code",
   "execution_count": 44,
   "metadata": {},
   "outputs": [],
   "source": [
    "def remove_urls_and_emails(text):\n",
    "    text = re.sub(r'http\\S+|www\\S+', '', text)\n",
    "    text = re.sub(r'\\S+@\\S+', '', text)\n",
    "    return text\n",
    "\n",
    "dataset['News'] = dataset['News'].apply(remove_urls_and_emails)"
   ]
  },
  {
   "cell_type": "code",
   "execution_count": 45,
   "metadata": {},
   "outputs": [],
   "source": [
    "# from inltk.inltk import setup, tokenize\n",
    "# from collections import Iterable \n",
    "\n",
    "\n",
    "# def tokenize_hindi(text):\n",
    "#     tokens = tokenize(text, 'hi')\n",
    "#     return tokens\n",
    "\n",
    "# dataset['News'] = dataset['News'].apply(tokenize_hindi)\n"
   ]
  },
  {
   "cell_type": "code",
   "execution_count": 46,
   "metadata": {},
   "outputs": [],
   "source": [
    "from indicnlp.tokenize import indic_tokenize\n",
    "\n",
    "def itokenize_hindi(text):\n",
    "    tokens =  indic_tokenize.trivial_tokenize(text)\n",
    "    return tokens\n",
    "\n",
    "dataset['News'] = dataset['News'].apply(itokenize_hindi)\n",
    "\n"
   ]
  },
  {
   "cell_type": "code",
   "execution_count": 47,
   "metadata": {},
   "outputs": [
    {
     "data": {
      "text/plain": [
       "<bound method NDFrame.head of        News Categories                                               News\n",
       "0                    5  [पटना, हाईकोर्ट, ने, कोचिंग, संस्थान, के, संचा...\n",
       "1                    5  [अफसोस, है, यूपीए, सरकार, में, महिला, आरक्षण, ...\n",
       "2                    3  [जेट, एयरवेज़, के, संस्थापक, नरेश, गोयल, को, स...\n",
       "3                    5  [आज़म, खान, उनकी, पत्नी, व, बेटे, को, फर्ज़ी, ...\n",
       "4                    1  [हमारी, सैकड़ों, मिसाइलें, हवा, में, दिखाई, दे...\n",
       "...                ...                                                ...\n",
       "101496               5  [बिहार, में, दुकानदार, द्वारा, उधार, के, मांगन...\n",
       "101497               0  [इंतज़ार, के, लिए, माफी, मांगता, हूं, बॉलीवुड,...\n",
       "101498               1  [चीन, की, धमकियों, के, बाद, अमेरिका, ने, ताइवा...\n",
       "101499               0  [मैं, पत्थर, की, नहीं, बनी, हूं, ऋतिक, के, साथ...\n",
       "101500               1  [अमेरिका, में, वर्षीय, लड़के, ने, दिखाई, नकली,...\n",
       "\n",
       "[101501 rows x 2 columns]>"
      ]
     },
     "execution_count": 47,
     "metadata": {},
     "output_type": "execute_result"
    }
   ],
   "source": [
    "dataset.head"
   ]
  },
  {
   "cell_type": "code",
   "execution_count": 48,
   "metadata": {},
   "outputs": [],
   "source": [
    "# import snowballstemmer\n",
    "\n",
    "# # Create a stemmer for Hindi\n",
    "# hindi_stemmer = snowballstemmer.stemmer('hindi')\n",
    "\n",
    "# # Example Hindi words\n",
    "# words = [\"चलना\", \"चलते\", \"चला\", \"चाल\", \"चलने\", \"चलती\"]\n",
    "\n",
    "# # Apply stemming\n",
    "# stemmed_words = [hindi_stemmer.stem(word) for word in words]\n",
    "# print(\"Stemmed Words:\", stemmed_words)\n"
   ]
  },
  {
   "cell_type": "code",
   "execution_count": 49,
   "metadata": {},
   "outputs": [],
   "source": [
    "# import snowballstemmer\n",
    "# hindi_stemmer = snowballstemmer.stemmer('hindi')\n",
    "# def stem_words(word):\n",
    "#     return hindi_stemmer.stem(word)\n",
    "\n",
    "# dataset['News'] = dataset['News'].apply(stem_words)"
   ]
  },
  {
   "cell_type": "code",
   "execution_count": 50,
   "metadata": {},
   "outputs": [],
   "source": [
    "# from nltk.stem import PorterStemmer\n",
    "# def stemming(text):\n",
    "#     porter_stemmer = PorterStemmer()\n",
    "#     return [porter_stemmer.stem(word) for word in text]\n",
    "\n",
    "# dataset['News'] = dataset['News'].apply(stemming)"
   ]
  },
  {
   "cell_type": "code",
   "execution_count": 51,
   "metadata": {},
   "outputs": [],
   "source": [
    "# from indicnlp import lemmatizer\n",
    "# def lemmatize(text):\n",
    "#     lemmatized_words = lemmatizer.lemmatize(text, 'hi')\n",
    "\n",
    "# dataset['News'] = dataset['News'].apply(lemmatize)"
   ]
  },
  {
   "cell_type": "code",
   "execution_count": 52,
   "metadata": {},
   "outputs": [
    {
     "data": {
      "text/plain": [
       "<bound method NDFrame.head of        News Categories                                               News\n",
       "0                    5  [पटना, हाईकोर्ट, ने, कोचिंग, संस्थान, के, संचा...\n",
       "1                    5  [अफसोस, है, यूपीए, सरकार, में, महिला, आरक्षण, ...\n",
       "2                    3  [जेट, एयरवेज़, के, संस्थापक, नरेश, गोयल, को, स...\n",
       "3                    5  [आज़म, खान, उनकी, पत्नी, व, बेटे, को, फर्ज़ी, ...\n",
       "4                    1  [हमारी, सैकड़ों, मिसाइलें, हवा, में, दिखाई, दे...\n",
       "...                ...                                                ...\n",
       "101496               5  [बिहार, में, दुकानदार, द्वारा, उधार, के, मांगन...\n",
       "101497               0  [इंतज़ार, के, लिए, माफी, मांगता, हूं, बॉलीवुड,...\n",
       "101498               1  [चीन, की, धमकियों, के, बाद, अमेरिका, ने, ताइवा...\n",
       "101499               0  [मैं, पत्थर, की, नहीं, बनी, हूं, ऋतिक, के, साथ...\n",
       "101500               1  [अमेरिका, में, वर्षीय, लड़के, ने, दिखाई, नकली,...\n",
       "\n",
       "[101501 rows x 2 columns]>"
      ]
     },
     "execution_count": 52,
     "metadata": {},
     "output_type": "execute_result"
    }
   ],
   "source": [
    "dataset.head"
   ]
  },
  {
   "cell_type": "code",
   "execution_count": 53,
   "metadata": {},
   "outputs": [
    {
     "name": "stderr",
     "output_type": "stream",
     "text": [
      "[nltk_data] Downloading package stopwords to\n",
      "[nltk_data]     C:\\Users\\adity\\AppData\\Roaming\\nltk_data...\n",
      "[nltk_data]   Package stopwords is already up-to-date!\n"
     ]
    },
    {
     "data": {
      "text/plain": [
       "True"
      ]
     },
     "execution_count": 53,
     "metadata": {},
     "output_type": "execute_result"
    }
   ],
   "source": [
    "import nltk\n",
    "from nltk.corpus import stopwords\n",
    "nltk.download('stopwords')\n",
    "\n"
   ]
  },
  {
   "cell_type": "code",
   "execution_count": 54,
   "metadata": {},
   "outputs": [],
   "source": [
    "custom_hindi_stopwords = {\n",
    "    \"अंदर\",\"अत\",\"अदि\",\"अप\",\"अपना\",\"अपनि\",\"अपनी\",\"अपने\",\"अभि\",\"अभी\",\"आदि\"\n",
    "    ,\"आप\",\"इंहिं\",\"इंहें\",\"इंहों\",\"इतयादि\",\"इत्यादि\",\"इन\",\"इनका\",\"इन्हीं\",\"इन्हें\",\"इन्हों\",\n",
    "    \"इस\",\"इसका\",\"इसकि\",\"इसकी\",\"इसके\",\"इसमें\",\"इसि\",\"इसी\",\"इसे\",\"उंहिं\",\"उंहें\",\n",
    "    \"उंहों\",\"उन\",\"उनका\",\"उनकि\",\"उनकी\",\"उनके\",\"उनको\",\"उन्हीं\",\"उन्हें\",\"उन्हों\",\"उस\"\n",
    "    ,\"उसके\",\"उसि\",\"उसी\",\"उसे\",\"एक\",\"एवं\",\"एस\",\"एसे\",\"ऐसे\",\"ओर\",\"और\",\"कइ\",\n",
    "    \"कई\",\"कर\",\"करता\",\"करते\",\"करना\",\"करने\",\"करें\",\"कहते\",\"कहा\",\"का\",\"काफि\",\"काफ़ी\"\n",
    "    ,\"कि\",\"किंहें\",\"किंहों\",\"कितना\",\"किन्हें\",\"किन्हों\",\"किया\",\"किर\",\"किस\",\"किसि\",\"किसी\",\"किसे\"\n",
    "    ,\"की\",\"कुछ\",\"कुल\",\"के\",\"को\",\"कोइ\",\"कोई\",\"कोन\",\"कोनसा\",\"कौन\",\"कौनसा\",\"गया\",\"घर\",\n",
    "    \"जब\",\"जहाँ\",\"जहां\",\"जा\",\"जिंहें\",\"जिंहों\",\"जितना\",\"जिधर\",\"जिन\",\"जिन्हें\",\"जिन्हों\",\"जिस\",\"जिसे\"\n",
    "    ,\"जीधर\",\"जेसा\",\"जेसे\",\"जैसा\",\"जैसे\",\"जो\",\"तक\",\"तब\",\"तरह\",\"तिंहें\",\"तिंहों\",\"तिन\",\"तिन्हें\",\"तिन्हों\"\n",
    "    ,\"तिस\",\"तिसे\",\"तो\",\"था\",\"थि\",\"थी\",\"थे\",\"दबारा\",\"दवारा\",\"दिया\",\"दुसरा\",\"दुसरे\",\"दूसरे\",\"दो\",\"द्वारा\"\n",
    "    ,\"न\",\"नहिं\",\"नहीं\",\"ना\",\"निचे\",\"निहायत\",\"नीचे\",\"ने\",\"पर\",\"पहले\",\"पुरा\",\"पूरा\",\"पे\",\"फिर\",\"बनि\",\"बनी\"\n",
    "    ,\"बहि\",\"बही\",\"बहुत\",\"बाद\",\"बाला\",\"बिलकुल\",\"भि\",\"भितर\",\"भी\",\"भीतर\",\"मगर\",\"मानो\",\"मे\",\"में\",\"यदि\"\n",
    "    ,\"यह\",\"यहाँ\",\"यहां\",\"यहि\",\"यही\",\"या\",\"यिह\",\"ये\",\"रखें\",\"रवासा\",\"रहा\",\"रहे\",\"ऱ्वासा\",\"लिए\",\"लिये\",\"लेकिन\"\n",
    "    ,\"व\",\"वगेरह\",\"वरग\",\"वर्ग\",\"वह\",\"वहाँ\",\"वहां\",\"वहिं\",\"वहीं\",\"वाले\",\"वुह\",\"वे\",\"वग़ैरह\",\"संग\",\"सकता\",\"सकते\",\n",
    "    \"सबसे\",\"सभि\",\"सभी\",\"साथ\",\"साबुत\",\"साभ\",\"सारा\",\"से\",\"सो\",\"हि\",\"ही\",\"हुअ\",\"हुआ\",\"हुइ\",\"हुई\",\"हुए\",\"हे\",\n",
    "    \"हें\",\"है\",\"हैं\",\"हो\",\"होता\",\"होति\",\"होती\",\"होते\",\"होना\",\"होने\",\"उन्होंने\" ,\"हम\" ,\"तुम\"\n",
    "    ,\"है\", \"था\", \"हूँ\", \"हैं\", \"थी\", \"थे\", \"और\", \"या\", \"लेकिन\",\"ज़्यादा\",\n",
    "    \"पर\", \"कि\", \"को\", \"से\", \"भी\", \"जो\", \"इस\", \"इन\", \"वह\", \"वे\",\n",
    "    \"किया\", \"कर\", \"करना\", \"हो\", \"ही\", \"तो\", \"कौन\", \"किस\", \"कहाँ\",\n",
    "    \"कैसे\", \"क्यों\", \"जब\", \"जैसे\", \"सकता\", \"रहा\", \"रहे\", \"रखी\",\n",
    "    \"रखना\", \"रखते\", \"हम\", \"आप\", \"व\", \"था\", \"थी\", \"होता\", \"होती\",\n",
    "    \"रही\", \"अपने\", \"अपना\", \"उस\", \"उसे\", \"इन्हें\", \"जिन्हें\", \"जिन\",\n",
    "    \"तुम\", \"कुछ\", \"यहाँ\", \"वहाँ\", \"इसके\", \"उनके\", \"उनकी\", \"इसका\",\n",
    "    \"इसके\", \"इनका\", \"इनके\", \"तब\", \"तरह\", \"उप\", \"द्वारा\", \"तक\",\n",
    "    \"यदि\", \"जिस\", \"जिससे\", \"जैसा\", \"जिनसे\", \"साथ\", \"उनका\", \"इसी\",\n",
    "    \"होते\", \"इत्यादि\", \"तक\", \"एवं\", \"ना\", \"नी\", \"सभी\", \"दूसरे\",\"तरीके\",\n",
    "    \"थोड़ा\", \"मात्र\", \"बिलकुल\", \"पूर्णतः\", \"वर्ग\", \"प्रकार\", \"लिए\",\n",
    "    \"ज्यादा\", \"कम\", \"हमारे\", \"सकती\", \"करते\", \"उन्हें\", \"होना\",\"इसलिए\",\n",
    "    \"करती\", \"जरूरी\", \"तथा\", \"बड़ा\", \"किसी\", \"किसीका\", \"जिसका\",\n",
    "    \"उसका\", \"किसने\", \"इन्होने\", \"उन्होने\", \"सकते\", \"आदि\", \"प्रति\",\n",
    "    \"में\", \"थे\", \"हो\", \"सकता\", \"चाहिए\", \"लगभग\", \"बारे\", \"हर\",\n",
    "    \"सब\", \"उसके\", \"इनमें\", \"ऐसे\", \"जाना\", \"करवा\", \"दिया\", \"देना\",\n",
    "    \"दो\", \"तीन\", \"चार\", \"पांच\", \"छह\", \"सात\", \"आठ\", \"नौ\", \"दस\",\n",
    "    \"इतना\", \"कितना\", \"उनका\", \"इसमें\", \"उधर\", \"कभी\", \"अभी\", \"सबसे\",\n",
    "    \"शायद\", \"जितना\", \"जिसे\", \"मुझे\", \"तुझे\", \"वगैरह\", \"मानो\", \"मिली\",\n",
    "    \"थोड़ी\", \"बाद\", \"सामने\", \"पीछे\", \"अंदर\", \"बाहर\", \"खास\", \n",
    "    \"हरएक\", \"कोई\", \"किसको\", \"किसका\", \"इनको\", \"इनका\", \"उन्हीं\", \n",
    "    \"उनमें\", \"ऐसा\", \"होते\", \"करेंगे\", \"जाएंगे\", \"आएंगे\", \"लेना\",\n",
    "    \"लेकर\", \"देकर\", \"जाना\", \"आना\", \"मिलना\", \"पाना\", \"रखें\", \"चलिए\",\n",
    "    \"चलते\", \"जाते\", \"लगे\", \"रहेंगे\", \"करे\", \"रखें\" ,\"जी\" ,\"दी \",\"थीं\" ,\"द \",\"मैं\",\"हूं\" ,\"क्या\" ,\"वाला\" ,\"अधिक\"\n",
    "}\n",
    "\n",
    "def remove_custom_stopwords(text, custom_stopwords):\n",
    "    if isinstance(text, list):\n",
    "        # If the input is a list, filter stopwords from the list\n",
    "        filtered_tokens = [token for token in text if token not in custom_stopwords]\n",
    "        return ' '.join(filtered_tokens)\n",
    "    elif isinstance(text, str):\n",
    "        # If the input is a string, split into words and filter stopwords\n",
    "        tokens = re.findall(r'\\b\\w+\\b', text)\n",
    "        filtered_tokens = [token for token in tokens if token not in custom_stopwords]\n",
    "        return ' '.join(filtered_tokens)\n",
    "    else:\n",
    "        # If input is neither a string nor a list, return as is\n",
    "        return text\n",
    "\n",
    "# Apply the function to the DataFrame column\n",
    "dataset['News'] = dataset['News'].apply(lambda x: remove_custom_stopwords(x, custom_hindi_stopwords))\n"
   ]
  },
  {
   "cell_type": "code",
   "execution_count": 55,
   "metadata": {},
   "outputs": [
    {
     "name": "stdout",
     "output_type": "stream",
     "text": [
      "News Categories    object\n",
      "News               object\n",
      "dtype: object\n"
     ]
    }
   ],
   "source": [
    "print(dataset.dtypes)"
   ]
  },
  {
   "cell_type": "code",
   "execution_count": 56,
   "metadata": {},
   "outputs": [],
   "source": [
    "# import json\n",
    "# with open('stopwords-hi.json', 'r', encoding='utf-8') as f:\n",
    "#     hindi_stopwords = json.load(f)\n",
    "\n",
    "# def filter_stopwords(text):\n",
    "#          if isinstance(text, str):\n",
    "#             # Split the text into words, filter out stopwords, and join back to string\n",
    "#             filtered_words = [word for word in text.split() if word not in hindi_stopwords]\n",
    "#             return ' '.join(filtered_words)\n",
    "     \n",
    "    \n",
    "   \n",
    "\n",
    "#     # Apply the filter_stopwords function to the specified column\n",
    "# dataset[\"News\"] = dataset[\"News\"].apply(filter_stopwords)    \n"
   ]
  },
  {
   "cell_type": "code",
   "execution_count": 57,
   "metadata": {},
   "outputs": [
    {
     "data": {
      "text/plain": [
       "<bound method NDFrame.head of        News Categories                                               News\n",
       "0                    5  पटना हाईकोर्ट कोचिंग संस्थान संचालन समय जुड़े ...\n",
       "1                    5  अफसोस यूपीए सरकार महिला आरक्षण बिल ओबीसी कोटा ...\n",
       "2                    3  जेट एयरवेज़ संस्थापक नरेश गोयल सितंबर ईडी हिरा...\n",
       "3                    5  आज़म खान पत्नी बेटे फर्ज़ी जन्म प्रमाण पत्र मा...\n",
       "4                    1  हमारी सैकड़ों मिसाइलें हवा दिखाई देंगी दुश्मन ...\n",
       "...                ...                                                ...\n",
       "101496               5  बिहार दुकानदार उधार मांगने फायरिंग दुकान गई तो...\n",
       "101497               0  इंतज़ार माफी मांगता बॉलीवुड वापसी खबरों बीच भा...\n",
       "101498               1  चीन धमकियों अमेरिका ताइवान नियुक्त नया प्रतिनि...\n",
       "101499               0  पत्थर ऋतिक रिश्ता सार्वजनिक नफरत सबा अभिनेत्री...\n",
       "101500               1  अमेरिका वर्षीय लड़के दिखाई नकली बंदूक असली समझ...\n",
       "\n",
       "[101501 rows x 2 columns]>"
      ]
     },
     "execution_count": 57,
     "metadata": {},
     "output_type": "execute_result"
    }
   ],
   "source": [
    "dataset.head"
   ]
  },
  {
   "cell_type": "code",
   "execution_count": 58,
   "metadata": {},
   "outputs": [],
   "source": [
    "X = dataset['News']\n",
    "y = dataset[\"News Categories\"]"
   ]
  },
  {
   "cell_type": "code",
   "execution_count": 59,
   "metadata": {},
   "outputs": [
    {
     "name": "stdout",
     "output_type": "stream",
     "text": [
      "{0, 1, 2, 3, 4, 5, 6}\n"
     ]
    }
   ],
   "source": [
    "print(set(y)) "
   ]
  },
  {
   "cell_type": "code",
   "execution_count": 60,
   "metadata": {},
   "outputs": [
    {
     "name": "stdout",
     "output_type": "stream",
     "text": [
      "object\n",
      "object\n"
     ]
    }
   ],
   "source": [
    "print(X.dtype)\n",
    "print(y.dtype)\n"
   ]
  },
  {
   "cell_type": "code",
   "execution_count": 61,
   "metadata": {},
   "outputs": [
    {
     "name": "stdout",
     "output_type": "stream",
     "text": [
      "int64\n"
     ]
    }
   ],
   "source": [
    "y = y.astype(int)\n",
    "print(y.dtype)"
   ]
  },
  {
   "cell_type": "code",
   "execution_count": 62,
   "metadata": {},
   "outputs": [],
   "source": [
    "from sklearn.model_selection import train_test_split\n",
    "\n",
    "X_train,X_test,y_train,y_test = train_test_split(X,y, test_size=0.25, random_state=42, stratify=y)"
   ]
  },
  {
   "cell_type": "code",
   "execution_count": 63,
   "metadata": {},
   "outputs": [
    {
     "name": "stdout",
     "output_type": "stream",
     "text": [
      "59455     प्यारे पति आपको तलाक देती पति नाम इंस्टाग्राम ...\n",
      "29632     पाकिस्तान कुरान बेअदबी आरोपी हत्या मामले लोग ग...\n",
      "91689     आइसलैंड दिखे अमर पक्षी फीनिक्स आकृति ऑरोरा तस्...\n",
      "87322     कब विश्व साइकल दिवस शुरुआत नीदरलैंड्स कहलाता स...\n",
      "78604     महिला एमेज़ॉन मंगाए पैकेज मिला ज़िंदा ज़हरीला ...\n",
      "                                ...                        \n",
      "1941      किम जोंगउन रूस यात्रा दौरान क्याक्या तोहफे मिल...\n",
      "78659     अमेरिका शख्स लड़कों पुरुषों सेक्स जानबूझकर एचआ...\n",
      "100234    अक्टूबर बीच राज्यों भारी मूसलाधार बारिश चेतावन...\n",
      "6674      आयकर विभाग करोड़ टैक्स चोरी लक्स परिसरों छापेम...\n",
      "32298     पॉज़िटिव बच्चों पाल महाराष्ट्र वर्षीय महिला मह...\n",
      "Name: News, Length: 76125, dtype: object\n"
     ]
    }
   ],
   "source": [
    "print(X_train)"
   ]
  },
  {
   "cell_type": "code",
   "execution_count": 64,
   "metadata": {},
   "outputs": [
    {
     "name": "stdout",
     "output_type": "stream",
     "text": [
      "59455     1\n",
      "29632     1\n",
      "91689     4\n",
      "87322     6\n",
      "78604     6\n",
      "         ..\n",
      "1941      1\n",
      "78659     1\n",
      "100234    5\n",
      "6674      3\n",
      "32298     6\n",
      "Name: News Categories, Length: 76125, dtype: int64\n",
      "<class 'pandas.core.series.Series'>\n"
     ]
    }
   ],
   "source": [
    "\n",
    "print(y_train)\n",
    "print(type(y_train))\n"
   ]
  },
  {
   "cell_type": "code",
   "execution_count": 65,
   "metadata": {},
   "outputs": [
    {
     "name": "stdout",
     "output_type": "stream",
     "text": [
      "No. of features extracted:\n",
      "52629\n",
      "First 100 feature names:\n",
      "['पत', 'आपक', 'तल', 'बई', 'शहज', 'सक', 'हम', 'मद', 'अल', 'मकत', 'हर', 'एल', 'अक', 'अन', 'यस', 'षण', 'पत आपक', 'तल पत', 'पत बई', 'बई सक', 'सक हम', 'हम मद', 'मद अल', 'अल मकत', 'हर पत', 'पत हम', 'तल एल', 'एल अक', 'पत अन', 'अन यस', 'तल षण', 'अदब', 'आर', 'हत', 'मल', 'रफ', 'बर', 'पख', 'नख', 'आगजन', 'बत', 'घटन', 'रय', 'सकर', 'यल', 'गए', 'अदब आर', 'आर हत', 'हत मल', 'मल रफ', 'रफ बर', 'बर पख', 'पख नख', 'नख अदब', 'आगजन मल', 'रफ बत', 'बत घटन', 'घटन अन', 'अन रफ', 'रफ रय', 'घटन सकर', 'सकर यल', 'यल गए', 'आइसल', 'अमर', 'पक', 'आक', 'ऑर', 'तस', 'यरल', 'ऐस', 'चर', 'ऑफ', 'यर', 'गई', 'शल', 'ओवर', 'षक', 'लग', 'सन', 'कग', 'पर', 'वत', 'आइसल अमर', 'अमर पक', 'पक आक', 'आक ऑर', 'ऑर तस', 'तस यरल', 'यरल ऐस', 'ऐस चर', 'चर ऑफ', 'ऑफ यर', 'यर गई', 'गई अमर', 'तस शल', 'शल यरल', 'यरल गई', 'गई तस', 'तस ऑर']\n"
     ]
    }
   ],
   "source": [
    "from sklearn.feature_extraction.text import TfidfVectorizer\n",
    "\n",
    "tfidf = TfidfVectorizer(min_df = 8, ngram_range = (1, 2))\n",
    "\n",
    "X_train = tfidf.fit_transform(X_train)\n",
    "X_test = tfidf.transform(X_test)\n",
    "\n",
    "print(\"No. of features extracted:\")\n",
    "print(len(tfidf.vocabulary_))\n",
    "\n",
    "print(\"First 100 feature names:\")\n",
    "print(list(tfidf.vocabulary_.keys())[:100])"
   ]
  },
  {
   "cell_type": "code",
   "execution_count": 66,
   "metadata": {},
   "outputs": [
    {
     "name": "stdout",
     "output_type": "stream",
     "text": [
      "<class 'scipy.sparse._csr.csr_matrix'>\n"
     ]
    }
   ],
   "source": [
    "print(type(X_train))     \n"
   ]
  },
  {
   "cell_type": "code",
   "execution_count": 67,
   "metadata": {},
   "outputs": [
    {
     "data": {
      "text/plain": [
       "(76125, 52629)"
      ]
     },
     "execution_count": 67,
     "metadata": {},
     "output_type": "execute_result"
    }
   ],
   "source": [
    "X_train.shape"
   ]
  },
  {
   "cell_type": "code",
   "execution_count": 68,
   "metadata": {},
   "outputs": [
    {
     "name": "stdout",
     "output_type": "stream",
     "text": [
      "<Compressed Sparse Row sparse matrix of dtype 'float64'\n",
      "\twith 2725898 stored elements and shape (76125, 52629)>\n",
      "  Coords\tValues\n",
      "  (0, 28856)\t0.19195978484297554\n",
      "  (0, 4848)\t0.1497713250058986\n",
      "  (0, 24461)\t0.4714518110027466\n",
      "  (0, 31208)\t0.13817516625624537\n",
      "  (0, 47518)\t0.27454943070316784\n",
      "  (0, 48079)\t0.05210136459713642\n",
      "  (0, 51795)\t0.1173919162941749\n",
      "  (0, 35195)\t0.14925927417614845\n",
      "  (0, 2589)\t0.1280162562732749\n",
      "  (0, 34733)\t0.2609482251802221\n",
      "  (0, 52208)\t0.06143321637286551\n",
      "  (0, 11353)\t0.068544927140117\n",
      "  (0, 0)\t0.06647296654995441\n",
      "  (0, 829)\t0.04442111249572203\n",
      "  (0, 39210)\t0.09187453662443233\n",
      "  (0, 47665)\t0.06405753984895388\n",
      "  (0, 28893)\t0.15389819307084407\n",
      "  (0, 24512)\t0.142177748215248\n",
      "  (0, 29064)\t0.14846575984815336\n",
      "  (0, 31334)\t0.15890572639251846\n",
      "  (0, 48299)\t0.1438210567259789\n",
      "  (0, 51932)\t0.18361078383495025\n",
      "  (0, 35203)\t0.2969315196963067\n",
      "  (0, 2713)\t0.3100242024450967\n",
      "  (0, 52326)\t0.12143896773284003\n",
      "  :\t:\n",
      "  (76124, 40885)\t0.06327486575901728\n",
      "  (76124, 45638)\t0.09715857173103519\n",
      "  (76124, 36782)\t0.22847351144260453\n",
      "  (76124, 2388)\t0.0747349034158089\n",
      "  (76124, 30131)\t0.07858794784973208\n",
      "  (76124, 45486)\t0.13502717735738357\n",
      "  (76124, 41652)\t0.12717938351688762\n",
      "  (76124, 31687)\t0.26003667164545086\n",
      "  (76124, 19576)\t0.07371786490463542\n",
      "  (76124, 19633)\t0.10056262466236988\n",
      "  (76124, 5816)\t0.08849403920416231\n",
      "  (76124, 17901)\t0.1626277734998858\n",
      "  (76124, 30144)\t0.1440613054983969\n",
      "  (76124, 47783)\t0.16535398168090246\n",
      "  (76124, 31838)\t0.12907654927588802\n",
      "  (76124, 31765)\t0.11910751200655258\n",
      "  (76124, 36720)\t0.11024677100401992\n",
      "  (76124, 5857)\t0.1575400163759553\n",
      "  (76124, 31875)\t0.1376945324176386\n",
      "  (76124, 48214)\t0.16026622455697193\n",
      "  (76124, 10163)\t0.4511076763751807\n",
      "  (76124, 10164)\t0.1776125297223947\n",
      "  (76124, 40957)\t0.16636484803322096\n",
      "  (76124, 10165)\t0.3327296960664419\n",
      "  (76124, 41780)\t0.3450495451969283\n"
     ]
    }
   ],
   "source": [
    "print(X_train) "
   ]
  },
  {
   "cell_type": "code",
   "execution_count": 69,
   "metadata": {},
   "outputs": [
    {
     "data": {
      "text/html": [
       "<div>\n",
       "<style scoped>\n",
       "    .dataframe tbody tr th:only-of-type {\n",
       "        vertical-align: middle;\n",
       "    }\n",
       "\n",
       "    .dataframe tbody tr th {\n",
       "        vertical-align: top;\n",
       "    }\n",
       "\n",
       "    .dataframe thead th {\n",
       "        text-align: right;\n",
       "    }\n",
       "</style>\n",
       "<table border=\"1\" class=\"dataframe\">\n",
       "  <thead>\n",
       "    <tr style=\"text-align: right;\">\n",
       "      <th></th>\n",
       "      <th>अक</th>\n",
       "      <th>अक अक</th>\n",
       "      <th>अक अद</th>\n",
       "      <th>अक अप</th>\n",
       "      <th>अक अपल</th>\n",
       "      <th>अक अम</th>\n",
       "      <th>अक अय</th>\n",
       "      <th>अक अल</th>\n",
       "      <th>अक आत</th>\n",
       "      <th>अक आध</th>\n",
       "      <th>...</th>\n",
       "      <th>हसन अख</th>\n",
       "      <th>हसन अल</th>\n",
       "      <th>हसन एनय</th>\n",
       "      <th>हसन गलव</th>\n",
       "      <th>हसन धन</th>\n",
       "      <th>हसन नसरल</th>\n",
       "      <th>हसन बज</th>\n",
       "      <th>हसन महम</th>\n",
       "      <th>हसर</th>\n",
       "      <th>हसर मस</th>\n",
       "    </tr>\n",
       "  </thead>\n",
       "  <tbody>\n",
       "    <tr>\n",
       "      <th>0</th>\n",
       "      <td>0.066473</td>\n",
       "      <td>0</td>\n",
       "      <td>0</td>\n",
       "      <td>0</td>\n",
       "      <td>0</td>\n",
       "      <td>0</td>\n",
       "      <td>0</td>\n",
       "      <td>0</td>\n",
       "      <td>0</td>\n",
       "      <td>0</td>\n",
       "      <td>...</td>\n",
       "      <td>0</td>\n",
       "      <td>0</td>\n",
       "      <td>0</td>\n",
       "      <td>0</td>\n",
       "      <td>0</td>\n",
       "      <td>0</td>\n",
       "      <td>0</td>\n",
       "      <td>0</td>\n",
       "      <td>0</td>\n",
       "      <td>0</td>\n",
       "    </tr>\n",
       "    <tr>\n",
       "      <th>1</th>\n",
       "      <td>0</td>\n",
       "      <td>0</td>\n",
       "      <td>0</td>\n",
       "      <td>0</td>\n",
       "      <td>0</td>\n",
       "      <td>0</td>\n",
       "      <td>0</td>\n",
       "      <td>0</td>\n",
       "      <td>0</td>\n",
       "      <td>0</td>\n",
       "      <td>...</td>\n",
       "      <td>0</td>\n",
       "      <td>0</td>\n",
       "      <td>0</td>\n",
       "      <td>0</td>\n",
       "      <td>0</td>\n",
       "      <td>0</td>\n",
       "      <td>0</td>\n",
       "      <td>0</td>\n",
       "      <td>0</td>\n",
       "      <td>0</td>\n",
       "    </tr>\n",
       "    <tr>\n",
       "      <th>2</th>\n",
       "      <td>0</td>\n",
       "      <td>0</td>\n",
       "      <td>0</td>\n",
       "      <td>0</td>\n",
       "      <td>0</td>\n",
       "      <td>0</td>\n",
       "      <td>0</td>\n",
       "      <td>0</td>\n",
       "      <td>0</td>\n",
       "      <td>0</td>\n",
       "      <td>...</td>\n",
       "      <td>0</td>\n",
       "      <td>0</td>\n",
       "      <td>0</td>\n",
       "      <td>0</td>\n",
       "      <td>0</td>\n",
       "      <td>0</td>\n",
       "      <td>0</td>\n",
       "      <td>0</td>\n",
       "      <td>0</td>\n",
       "      <td>0</td>\n",
       "    </tr>\n",
       "    <tr>\n",
       "      <th>3</th>\n",
       "      <td>0</td>\n",
       "      <td>0</td>\n",
       "      <td>0</td>\n",
       "      <td>0</td>\n",
       "      <td>0</td>\n",
       "      <td>0</td>\n",
       "      <td>0</td>\n",
       "      <td>0</td>\n",
       "      <td>0</td>\n",
       "      <td>0</td>\n",
       "      <td>...</td>\n",
       "      <td>0</td>\n",
       "      <td>0</td>\n",
       "      <td>0</td>\n",
       "      <td>0</td>\n",
       "      <td>0</td>\n",
       "      <td>0</td>\n",
       "      <td>0</td>\n",
       "      <td>0</td>\n",
       "      <td>0</td>\n",
       "      <td>0</td>\n",
       "    </tr>\n",
       "    <tr>\n",
       "      <th>4</th>\n",
       "      <td>0</td>\n",
       "      <td>0</td>\n",
       "      <td>0</td>\n",
       "      <td>0</td>\n",
       "      <td>0</td>\n",
       "      <td>0</td>\n",
       "      <td>0</td>\n",
       "      <td>0</td>\n",
       "      <td>0</td>\n",
       "      <td>0</td>\n",
       "      <td>...</td>\n",
       "      <td>0</td>\n",
       "      <td>0</td>\n",
       "      <td>0</td>\n",
       "      <td>0</td>\n",
       "      <td>0</td>\n",
       "      <td>0</td>\n",
       "      <td>0</td>\n",
       "      <td>0</td>\n",
       "      <td>0</td>\n",
       "      <td>0</td>\n",
       "    </tr>\n",
       "    <tr>\n",
       "      <th>...</th>\n",
       "      <td>...</td>\n",
       "      <td>...</td>\n",
       "      <td>...</td>\n",
       "      <td>...</td>\n",
       "      <td>...</td>\n",
       "      <td>...</td>\n",
       "      <td>...</td>\n",
       "      <td>...</td>\n",
       "      <td>...</td>\n",
       "      <td>...</td>\n",
       "      <td>...</td>\n",
       "      <td>...</td>\n",
       "      <td>...</td>\n",
       "      <td>...</td>\n",
       "      <td>...</td>\n",
       "      <td>...</td>\n",
       "      <td>...</td>\n",
       "      <td>...</td>\n",
       "      <td>...</td>\n",
       "      <td>...</td>\n",
       "      <td>...</td>\n",
       "    </tr>\n",
       "    <tr>\n",
       "      <th>95</th>\n",
       "      <td>0</td>\n",
       "      <td>0</td>\n",
       "      <td>0</td>\n",
       "      <td>0</td>\n",
       "      <td>0</td>\n",
       "      <td>0</td>\n",
       "      <td>0</td>\n",
       "      <td>0</td>\n",
       "      <td>0</td>\n",
       "      <td>0</td>\n",
       "      <td>...</td>\n",
       "      <td>0</td>\n",
       "      <td>0</td>\n",
       "      <td>0</td>\n",
       "      <td>0</td>\n",
       "      <td>0</td>\n",
       "      <td>0</td>\n",
       "      <td>0</td>\n",
       "      <td>0</td>\n",
       "      <td>0</td>\n",
       "      <td>0</td>\n",
       "    </tr>\n",
       "    <tr>\n",
       "      <th>96</th>\n",
       "      <td>0</td>\n",
       "      <td>0</td>\n",
       "      <td>0</td>\n",
       "      <td>0</td>\n",
       "      <td>0</td>\n",
       "      <td>0</td>\n",
       "      <td>0</td>\n",
       "      <td>0</td>\n",
       "      <td>0</td>\n",
       "      <td>0</td>\n",
       "      <td>...</td>\n",
       "      <td>0</td>\n",
       "      <td>0</td>\n",
       "      <td>0</td>\n",
       "      <td>0</td>\n",
       "      <td>0</td>\n",
       "      <td>0</td>\n",
       "      <td>0</td>\n",
       "      <td>0</td>\n",
       "      <td>0</td>\n",
       "      <td>0</td>\n",
       "    </tr>\n",
       "    <tr>\n",
       "      <th>97</th>\n",
       "      <td>0</td>\n",
       "      <td>0</td>\n",
       "      <td>0</td>\n",
       "      <td>0</td>\n",
       "      <td>0</td>\n",
       "      <td>0</td>\n",
       "      <td>0</td>\n",
       "      <td>0</td>\n",
       "      <td>0</td>\n",
       "      <td>0</td>\n",
       "      <td>...</td>\n",
       "      <td>0</td>\n",
       "      <td>0</td>\n",
       "      <td>0</td>\n",
       "      <td>0</td>\n",
       "      <td>0</td>\n",
       "      <td>0</td>\n",
       "      <td>0</td>\n",
       "      <td>0</td>\n",
       "      <td>0</td>\n",
       "      <td>0</td>\n",
       "    </tr>\n",
       "    <tr>\n",
       "      <th>98</th>\n",
       "      <td>0</td>\n",
       "      <td>0</td>\n",
       "      <td>0</td>\n",
       "      <td>0</td>\n",
       "      <td>0</td>\n",
       "      <td>0</td>\n",
       "      <td>0</td>\n",
       "      <td>0</td>\n",
       "      <td>0</td>\n",
       "      <td>0</td>\n",
       "      <td>...</td>\n",
       "      <td>0</td>\n",
       "      <td>0</td>\n",
       "      <td>0</td>\n",
       "      <td>0</td>\n",
       "      <td>0</td>\n",
       "      <td>0</td>\n",
       "      <td>0</td>\n",
       "      <td>0</td>\n",
       "      <td>0</td>\n",
       "      <td>0</td>\n",
       "    </tr>\n",
       "    <tr>\n",
       "      <th>99</th>\n",
       "      <td>0.125097</td>\n",
       "      <td>0</td>\n",
       "      <td>0</td>\n",
       "      <td>0</td>\n",
       "      <td>0</td>\n",
       "      <td>0</td>\n",
       "      <td>0</td>\n",
       "      <td>0</td>\n",
       "      <td>0</td>\n",
       "      <td>0</td>\n",
       "      <td>...</td>\n",
       "      <td>0</td>\n",
       "      <td>0</td>\n",
       "      <td>0</td>\n",
       "      <td>0</td>\n",
       "      <td>0</td>\n",
       "      <td>0</td>\n",
       "      <td>0</td>\n",
       "      <td>0</td>\n",
       "      <td>0</td>\n",
       "      <td>0</td>\n",
       "    </tr>\n",
       "  </tbody>\n",
       "</table>\n",
       "<p>100 rows × 52629 columns</p>\n",
       "</div>"
      ],
      "text/plain": [
       "          अक  अक अक  अक अद  अक अप  अक अपल  अक अम  अक अय  अक अल  अक आत  अक आध  \\\n",
       "0   0.066473      0      0      0       0      0      0      0      0      0   \n",
       "1          0      0      0      0       0      0      0      0      0      0   \n",
       "2          0      0      0      0       0      0      0      0      0      0   \n",
       "3          0      0      0      0       0      0      0      0      0      0   \n",
       "4          0      0      0      0       0      0      0      0      0      0   \n",
       "..       ...    ...    ...    ...     ...    ...    ...    ...    ...    ...   \n",
       "95         0      0      0      0       0      0      0      0      0      0   \n",
       "96         0      0      0      0       0      0      0      0      0      0   \n",
       "97         0      0      0      0       0      0      0      0      0      0   \n",
       "98         0      0      0      0       0      0      0      0      0      0   \n",
       "99  0.125097      0      0      0       0      0      0      0      0      0   \n",
       "\n",
       "    ...  हसन अख  हसन अल  हसन एनय  हसन गलव  हसन धन  हसन नसरल  हसन बज  हसन महम  \\\n",
       "0   ...       0       0        0        0       0         0       0        0   \n",
       "1   ...       0       0        0        0       0         0       0        0   \n",
       "2   ...       0       0        0        0       0         0       0        0   \n",
       "3   ...       0       0        0        0       0         0       0        0   \n",
       "4   ...       0       0        0        0       0         0       0        0   \n",
       "..  ...     ...     ...      ...      ...     ...       ...     ...      ...   \n",
       "95  ...       0       0        0        0       0         0       0        0   \n",
       "96  ...       0       0        0        0       0         0       0        0   \n",
       "97  ...       0       0        0        0       0         0       0        0   \n",
       "98  ...       0       0        0        0       0         0       0        0   \n",
       "99  ...       0       0        0        0       0         0       0        0   \n",
       "\n",
       "    हसर  हसर मस  \n",
       "0     0       0  \n",
       "1     0       0  \n",
       "2     0       0  \n",
       "3     0       0  \n",
       "4     0       0  \n",
       "..  ...     ...  \n",
       "95    0       0  \n",
       "96    0       0  \n",
       "97    0       0  \n",
       "98    0       0  \n",
       "99    0       0  \n",
       "\n",
       "[100 rows x 52629 columns]"
      ]
     },
     "execution_count": 69,
     "metadata": {},
     "output_type": "execute_result"
    }
   ],
   "source": [
    "\n",
    "feature_names = tfidf.get_feature_names_out()     ##Coverting sparse matrices into dataframe\n",
    "pd.DataFrame.sparse.from_spmatrix(X_train[:100], columns=feature_names)"
   ]
  },
  {
   "cell_type": "code",
   "execution_count": 70,
   "metadata": {},
   "outputs": [],
   "source": [
    "from sklearn.naive_bayes import MultinomialNB \n",
    "from sklearn.metrics import confusion_matrix ,ConfusionMatrixDisplay\n",
    "from sklearn.metrics import f1_score, accuracy_score\n",
    "from sklearn.metrics import  recall_score, precision_score, classification_report"
   ]
  },
  {
   "cell_type": "code",
   "execution_count": 71,
   "metadata": {},
   "outputs": [
    {
     "name": "stdout",
     "output_type": "stream",
     "text": [
      "first 20 actual labels\n",
      "[4, 2, 6, 4, 4, 0, 1, 1, 5, 1, 1, 5, 3, 5, 1, 5, 6, 1, 4, 2]\n",
      "first 20 predicted labels\n",
      "[4, 2, 6, 4, 4, 0, 1, 1, 5, 1, 1, 5, 3, 5, 1, 5, 0, 1, 4, 2]\n"
     ]
    }
   ],
   "source": [
    "\n",
    "multinomial_nb = MultinomialNB()\n",
    "multinomial_nb.fit(X_train,y_train)\n",
    "\n",
    "y_pred = multinomial_nb.predict(X_test)\n",
    "\n",
    "print(\"first 20 actual labels\")\n",
    "print(y_test.tolist()[:20])\n",
    "print(\"first 20 predicted labels\")\n",
    "print(y_pred.tolist()[:20])"
   ]
  },
  {
   "cell_type": "code",
   "execution_count": 72,
   "metadata": {},
   "outputs": [
    {
     "name": "stdout",
     "output_type": "stream",
     "text": [
      "Accuracy: 0.9361601513240857\n",
      "Precision (Macro): 0.9443076838334549\n",
      "Recall (Macro): 0.9315449912730234\n",
      "F1 score (Macro): 0.9367857338382203\n"
     ]
    }
   ],
   "source": [
    "NaiveBa_ACC = accuracy_score(y_test, y_pred)\n",
    "print('Accuracy:', accuracy_score(y_test, y_pred))\n",
    "print('Precision (Macro):', precision_score(y_test, y_pred, average = 'macro'))\n",
    "print('Recall (Macro):', recall_score(y_test, y_pred, average = 'macro'))\n",
    "print('F1 score (Macro):', f1_score(y_test, y_pred, average = 'macro'))"
   ]
  },
  {
   "cell_type": "code",
   "execution_count": 73,
   "metadata": {},
   "outputs": [
    {
     "name": "stdout",
     "output_type": "stream",
     "text": [
      "               precision    recall  f1-score   support\n",
      "\n",
      "entertainment       0.97      0.94      0.96      5038\n",
      "        world       0.88      0.96      0.92      3139\n",
      "       sports       0.89      0.99      0.94      1775\n",
      "     business       0.96      0.95      0.96      3628\n",
      "   technology       0.97      0.97      0.97      3381\n",
      "     national       0.94      0.84      0.89      4540\n",
      "miscellaneous       0.92      0.95      0.93      3875\n",
      "\n",
      "     accuracy                           0.94     25376\n",
      "    macro avg       0.93      0.94      0.94     25376\n",
      " weighted avg       0.94      0.94      0.94     25376\n",
      "\n"
     ]
    }
   ],
   "source": [
    "print(classification_report(y_pred, y_test, target_names = News_Categories))"
   ]
  },
  {
   "cell_type": "code",
   "execution_count": 74,
   "metadata": {},
   "outputs": [
    {
     "data": {
      "image/png": "[encoded data removed]",
      "text/plain": [
       "<Figure size 640x480 with 2 Axes>"
      ]
     },
     "metadata": {},
     "output_type": "display_data"
    }
   ],
   "source": [
    "ConfusionMatrixDisplay.from_predictions(y_test, y_pred, display_labels =News_Categories, xticks_rotation = 45)\n",
    "\n",
    "plt.title('Confusion Matrix for Multinomial Naive Bayes model\\n')\n",
    "plt.show()"
   ]
  },
  {
   "cell_type": "code",
   "execution_count": null,
   "metadata": {},
   "outputs": [],
   "source": []
  },
  {
   "cell_type": "code",
   "execution_count": 75,
   "metadata": {},
   "outputs": [],
   "source": [
    "from sklearn.neighbors import KNeighborsClassifier"
   ]
  },
  {
   "cell_type": "code",
   "execution_count": 76,
   "metadata": {},
   "outputs": [
    {
     "name": "stdout",
     "output_type": "stream",
     "text": [
      "first 20 actual labels\n",
      "[4, 2, 6, 4, 4, 0, 1, 1, 5, 1, 1, 5, 3, 5, 1, 5, 6, 1, 4, 2]\n",
      "first 20 predicted labels\n",
      "[4, 2, 6, 4, 4, 0, 1, 1, 6, 1, 6, 5, 3, 5, 1, 5, 6, 1, 4, 2]\n"
     ]
    }
   ],
   "source": [
    "\n",
    "Knn = KNeighborsClassifier(n_neighbors =3, metric = 'minkowski', p = 2)\n",
    "Knn.fit(X_train,y_train)\n",
    "\n",
    "Kpred=Knn.predict(X_test)\n",
    "\n",
    "print(\"first 20 actual labels\")\n",
    "print(y_test.tolist()[:20])\n",
    "print(\"first 20 predicted labels\")\n",
    "print(Kpred.tolist()[:20])"
   ]
  },
  {
   "cell_type": "code",
   "execution_count": 77,
   "metadata": {},
   "outputs": [
    {
     "name": "stdout",
     "output_type": "stream",
     "text": [
      "Accuracy: 0.8422131147540983\n",
      "Precision (Macro): 0.9261738784550986\n",
      "Recall (Macro): 0.8443074077559652\n",
      "F1 score (Macro): 0.8567230770844437\n"
     ]
    }
   ],
   "source": [
    "KNN_ACC =  accuracy_score(y_test, Kpred)\n",
    "print('Accuracy:', accuracy_score(y_test, Kpred))\n",
    "print('Precision (Macro):', precision_score(y_test, Kpred, average = 'macro'))\n",
    "print('Recall (Macro):', recall_score(y_test, Kpred, average = 'macro'))\n",
    "print('F1 score (Macro):', f1_score(y_test, Kpred, average = 'macro'))"
   ]
  },
  {
   "cell_type": "code",
   "execution_count": 78,
   "metadata": {},
   "outputs": [
    {
     "name": "stdout",
     "output_type": "stream",
     "text": [
      "first 20 actual labels\n",
      "[4, 2, 6, 4, 4, 0, 1, 1, 5, 1, 1, 5, 3, 5, 1, 5, 6, 1, 4, 2]\n",
      "first 20 predicted labels\n",
      "[4, 2, 6, 4, 4, 0, 1, 1, 5, 1, 1, 5, 3, 5, 1, 5, 6, 1, 4, 2]\n"
     ]
    }
   ],
   "source": [
    "from sklearn.ensemble import RandomForestClassifier\n",
    "Rf = RandomForestClassifier(n_estimators = 100, criterion = 'entropy', random_state = 0)\n",
    "Rf.fit(X_train,y_train)\n",
    "\n",
    "pred=Rf.predict(X_test)\n",
    "\n",
    "print(\"first 20 actual labels\")\n",
    "print(y_test.tolist()[:20])\n",
    "print(\"first 20 predicted labels\")\n",
    "print(pred.tolist()[:20])"
   ]
  },
  {
   "cell_type": "code",
   "execution_count": 79,
   "metadata": {},
   "outputs": [
    {
     "name": "stdout",
     "output_type": "stream",
     "text": [
      "F1 score of Rf:\n",
      "0.9855769230769231\n",
      "Accuracy of Rf:\n",
      "0.9855769230769231\n",
      "Accuracy of Rf in percentage:\n",
      "98.558 %\n"
     ]
    }
   ],
   "source": [
    "print(\"F1 score of Rf:\")\n",
    "f1 = f1_score(y_test, pred, average='micro')\n",
    "print(f1)\n",
    "print(\"Accuracy of Rf:\")\n",
    "accuracy = accuracy_score(y_test, pred)\n",
    "print(accuracy)\n",
    "print(\"Accuracy of Rf in percentage:\")\n",
    "accuracy_percentage = round(accuracy * 100, 3)\n",
    "print(accuracy_percentage, \"%\")"
   ]
  },
  {
   "cell_type": "code",
   "execution_count": 87,
   "metadata": {},
   "outputs": [
    {
     "data": {
      "image/png": "[encoded data removed]",
      "text/plain": [
       "<Figure size 640x480 with 2 Axes>"
      ]
     },
     "metadata": {},
     "output_type": "display_data"
    }
   ],
   "source": [
    "ConfusionMatrixDisplay.from_predictions(y_test,pred, display_labels =News_Categories, xticks_rotation = 45)\n",
    "\n",
    "plt.title('Confusion Matrix for Rf model\\n')\n",
    "plt.show()"
   ]
  },
  {
   "cell_type": "code",
   "execution_count": 91,
   "metadata": {},
   "outputs": [
    {
     "name": "stdout",
     "output_type": "stream",
     "text": [
      "[2] [0] [2] [2]\n"
     ]
    }
   ],
   "source": [
    "a=multinomial_nb.predict(tfidf.transform([\"फीफा वर्ल्ड कप क्वॉलिफायर में अर्जेंटीना को कोलंबिया के खिलाफ 1-2 से हार का सामना करना पड़ा। स्टार फुटबॉलर लियोनल मेसी की कमी अर्जेंटीना को खली और इसका असर रिजल्ट पर भी देखने मिला\"]))\n",
    "b= multinomial_nb.predict(tfidf.transform([\"वर्ल्ड कप 2011 में टीम इंडिया की ओर से टॉप 8 का हर एक बल्लेबाज कम से कम एक बार सिंगल डिजिट स्कोर पर आउट हो गया था, लेकिन सिर्फ गौतम गंभीर ही ऐसे थे, जिन्होंने हर बार दहाई का स्कोर पार किया था। \"]))\n",
    "c =Rf.predict(tfidf.transform([\"फीफा वर्ल्ड कप क्वॉलिफायर में अर्जेंटीना को कोलंबिया के खिलाफ 1-2 से हार का सामना करना पड़ा। स्टार फुटबॉलर लियोनल मेसी की कमी अर्जेंटीना को खली और इसका असर रिजल्ट पर भी देखने मिला।\"]))\n",
    "d= Rf.predict(tfidf.transform([\"वर्ल्ड कप 2011 में टीम इंडिया की ओर से टॉप 8 का हर एक बल्लेबाज कम से कम एक बार सिंगल डिजिट स्कोर पर आउट हो गया था, लेकिन सिर्फ गौतम गंभीर ही ऐसे थे, जिन्होंने हर बार दहाई का स्कोर पार किया था। \"]))\n",
    "print(a,b,c,d)"
   ]
  },
  {
   "cell_type": "code",
   "execution_count": 93,
   "metadata": {},
   "outputs": [
    {
     "name": "stdout",
     "output_type": "stream",
     "text": [
      "[1] [3] [5] [3]\n"
     ]
    }
   ],
   "source": [
    "a=multinomial_nb.predict(tfidf.transform([\"नए न‍ियम के अनुसार न‍िवेशकों के ल‍िए यह स‍िस्‍टम पहले से बेहतर हो गया है. सुबह 11 बजे तक जमा किया गया डी-रेमिट पैसा भी उसी दिन निवेश कर दिया जाएगा और वह भी उस दिन के लागू नेट एसेट वैल्यू (NAV) के हिसाब से.\"]))\n",
    "b= multinomial_nb.predict(tfidf.transform([\"अगर आप भी आईपीओ के जर‍िये शेयर मार्केट में न‍िवेश करते हैं तो यह खबर आपको खुश कर देगी. जी हां, इलेक्ट्रिक टू-व्‍हीलर न‍िर्माता ओला इलेक्ट्रिक और दवा कंपनी एमक्योर फार्मास्युटिकल्स को वित्त जुटाने के लिए मार्केट रेग्‍युलेटर सेबी से इनीश‍ियल प्राइस ऑफर‍िंग (IPO) लाने की मंजूरी मिल गई है\"]))\n",
    "c =Rf.predict(tfidf.transform([\"नए न‍ियम के अनुसार न‍िवेशकों के ल‍िए यह स‍िस्‍टम पहले से बेहतर हो गया है. सुबह 11 बजे तक जमा किया गया डी-रेमिट पैसा भी उसी दिन निवेश कर दिया जाएगा और वह भी उस दिन के लागू नेट एसेट वैल्यू (NAV) के हिसाब से.\"]))\n",
    "d= Rf.predict(tfidf.transform([\"अगर आप भी आईपीओ के जर‍िये शेयर मार्केट में न‍िवेश करते हैं तो यह खबर आपको खुश कर देगी. जी हां, इलेक्ट्रिक टू-व्‍हीलर न‍िर्माता ओला इलेक्ट्रिक और दवा कंपनी एमक्योर फार्मास्युटिकल्स को वित्त जुटाने के लिए मार्केट रेग्‍युलेटर सेबी से इनीश‍ियल प्राइस ऑफर‍िंग (IPO) लाने की मंजूरी मिल गई है \"]))\n",
    "print(a,b,c,d)"
   ]
  },
  {
   "cell_type": "code",
   "execution_count": 82,
   "metadata": {},
   "outputs": [],
   "source": [
    "import joblib\n"
   ]
  },
  {
   "cell_type": "code",
   "execution_count": 83,
   "metadata": {},
   "outputs": [
    {
     "data": {
      "text/plain": [
       "['hindiTokenization.pkl']"
      ]
     },
     "execution_count": 83,
     "metadata": {},
     "output_type": "execute_result"
    }
   ],
   "source": [
    "joblib.dump(tfidf, \"hindiTokenization.joblib\")\n",
    "joblib.dump(tfidf, \"hindiTokenization.pkl\")"
   ]
  },
  {
   "cell_type": "code",
   "execution_count": 84,
   "metadata": {},
   "outputs": [
    {
     "data": {
      "text/plain": [
       "['hindi_Multi.pkl']"
      ]
     },
     "execution_count": 84,
     "metadata": {},
     "output_type": "execute_result"
    }
   ],
   "source": [
    "joblib.dump(multinomial_nb,\"hindi_Multi.joblib\")\n",
    "joblib.dump(multinomial_nb,\"hindi_Multi.pkl\")"
   ]
  },
  {
   "cell_type": "code",
   "execution_count": 94,
   "metadata": {},
   "outputs": [
    {
     "data": {
      "text/plain": [
       "['hindi_Rf.pkl']"
      ]
     },
     "execution_count": 94,
     "metadata": {},
     "output_type": "execute_result"
    }
   ],
   "source": [
    "joblib.dump(Rf,\"hindi_Rf.joblib\")\n",
    "joblib.dump(Rf,\"hindi_Rf.pkl\")"
   ]
  }
 ],
 "metadata": {
  "kernelspec": {
   "display_name": "Python 3",
   "language": "python",
   "name": "python3"
  },
  "language_info": {
   "codemirror_mode": {
    "name": "ipython",
    "version": 3
   },
   "file_extension": ".py",
   "mimetype": "text/x-python",
   "name": "python",
   "nbconvert_exporter": "python",
   "pygments_lexer": "ipython3",
   "version": "3.10.0"
  }
 },
 "nbformat": 4,
 "nbformat_minor": 2
}
