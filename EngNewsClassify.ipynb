{
 "cells": [
  {
   "cell_type": "code",
   "execution_count": 1,
   "metadata": {},
   "outputs": [],
   "source": [
    "import numpy as np\n",
    "import pandas as pd\n",
    "import matplotlib.pyplot as plt"
   ]
  },
  {
   "cell_type": "code",
   "execution_count": 2,
   "metadata": {},
   "outputs": [],
   "source": [
    "train_data = pd.read_csv('train.csv', header=0,names=['ID','Title','Desc'])\n",
    "test_data = pd.read_csv('test.csv', header=0,names=['ID','Title','Desc'])"
   ]
  },
  {
   "cell_type": "code",
   "execution_count": 3,
   "metadata": {},
   "outputs": [
    {
     "data": {
      "text/html": [
       "<div>\n",
       "<style scoped>\n",
       "    .dataframe tbody tr th:only-of-type {\n",
       "        vertical-align: middle;\n",
       "    }\n",
       "\n",
       "    .dataframe tbody tr th {\n",
       "        vertical-align: top;\n",
       "    }\n",
       "\n",
       "    .dataframe thead th {\n",
       "        text-align: right;\n",
       "    }\n",
       "</style>\n",
       "<table border=\"1\" class=\"dataframe\">\n",
       "  <thead>\n",
       "    <tr style=\"text-align: right;\">\n",
       "      <th></th>\n",
       "      <th>ID</th>\n",
       "      <th>Title</th>\n",
       "      <th>Desc</th>\n",
       "    </tr>\n",
       "  </thead>\n",
       "  <tbody>\n",
       "    <tr>\n",
       "      <th>0</th>\n",
       "      <td>3</td>\n",
       "      <td>Wall St. Bears Claw Back Into the Black (Reuters)</td>\n",
       "      <td>Reuters - Short-sellers, Wall Street's dwindli...</td>\n",
       "    </tr>\n",
       "    <tr>\n",
       "      <th>1</th>\n",
       "      <td>3</td>\n",
       "      <td>Carlyle Looks Toward Commercial Aerospace (Reu...</td>\n",
       "      <td>Reuters - Private investment firm Carlyle Grou...</td>\n",
       "    </tr>\n",
       "    <tr>\n",
       "      <th>2</th>\n",
       "      <td>3</td>\n",
       "      <td>Oil and Economy Cloud Stocks' Outlook (Reuters)</td>\n",
       "      <td>Reuters - Soaring crude prices plus worries\\ab...</td>\n",
       "    </tr>\n",
       "    <tr>\n",
       "      <th>3</th>\n",
       "      <td>3</td>\n",
       "      <td>Iraq Halts Oil Exports from Main Southern Pipe...</td>\n",
       "      <td>Reuters - Authorities have halted oil export\\f...</td>\n",
       "    </tr>\n",
       "    <tr>\n",
       "      <th>4</th>\n",
       "      <td>3</td>\n",
       "      <td>Oil prices soar to all-time record, posing new...</td>\n",
       "      <td>AFP - Tearaway world oil prices, toppling reco...</td>\n",
       "    </tr>\n",
       "  </tbody>\n",
       "</table>\n",
       "</div>"
      ],
      "text/plain": [
       "   ID                                              Title  \\\n",
       "0   3  Wall St. Bears Claw Back Into the Black (Reuters)   \n",
       "1   3  Carlyle Looks Toward Commercial Aerospace (Reu...   \n",
       "2   3    Oil and Economy Cloud Stocks' Outlook (Reuters)   \n",
       "3   3  Iraq Halts Oil Exports from Main Southern Pipe...   \n",
       "4   3  Oil prices soar to all-time record, posing new...   \n",
       "\n",
       "                                                Desc  \n",
       "0  Reuters - Short-sellers, Wall Street's dwindli...  \n",
       "1  Reuters - Private investment firm Carlyle Grou...  \n",
       "2  Reuters - Soaring crude prices plus worries\\ab...  \n",
       "3  Reuters - Authorities have halted oil export\\f...  \n",
       "4  AFP - Tearaway world oil prices, toppling reco...  "
      ]
     },
     "execution_count": 3,
     "metadata": {},
     "output_type": "execute_result"
    }
   ],
   "source": [
    "train_data.head()\n"
   ]
  },
  {
   "cell_type": "code",
   "execution_count": 4,
   "metadata": {},
   "outputs": [
    {
     "data": {
      "text/html": [
       "<div>\n",
       "<style scoped>\n",
       "    .dataframe tbody tr th:only-of-type {\n",
       "        vertical-align: middle;\n",
       "    }\n",
       "\n",
       "    .dataframe tbody tr th {\n",
       "        vertical-align: top;\n",
       "    }\n",
       "\n",
       "    .dataframe thead th {\n",
       "        text-align: right;\n",
       "    }\n",
       "</style>\n",
       "<table border=\"1\" class=\"dataframe\">\n",
       "  <thead>\n",
       "    <tr style=\"text-align: right;\">\n",
       "      <th></th>\n",
       "      <th>ID</th>\n",
       "      <th>Title</th>\n",
       "      <th>Desc</th>\n",
       "    </tr>\n",
       "  </thead>\n",
       "  <tbody>\n",
       "    <tr>\n",
       "      <th>0</th>\n",
       "      <td>3</td>\n",
       "      <td>Fears for T N pension after talks</td>\n",
       "      <td>Unions representing workers at Turner   Newall...</td>\n",
       "    </tr>\n",
       "    <tr>\n",
       "      <th>1</th>\n",
       "      <td>4</td>\n",
       "      <td>The Race is On: Second Private Team Sets Launc...</td>\n",
       "      <td>SPACE.com - TORONTO, Canada -- A second\\team o...</td>\n",
       "    </tr>\n",
       "    <tr>\n",
       "      <th>2</th>\n",
       "      <td>4</td>\n",
       "      <td>Ky. Company Wins Grant to Study Peptides (AP)</td>\n",
       "      <td>AP - A company founded by a chemistry research...</td>\n",
       "    </tr>\n",
       "    <tr>\n",
       "      <th>3</th>\n",
       "      <td>4</td>\n",
       "      <td>Prediction Unit Helps Forecast Wildfires (AP)</td>\n",
       "      <td>AP - It's barely dawn when Mike Fitzpatrick st...</td>\n",
       "    </tr>\n",
       "    <tr>\n",
       "      <th>4</th>\n",
       "      <td>4</td>\n",
       "      <td>Calif. Aims to Limit Farm-Related Smog (AP)</td>\n",
       "      <td>AP - Southern California's smog-fighting agenc...</td>\n",
       "    </tr>\n",
       "  </tbody>\n",
       "</table>\n",
       "</div>"
      ],
      "text/plain": [
       "   ID                                              Title  \\\n",
       "0   3                  Fears for T N pension after talks   \n",
       "1   4  The Race is On: Second Private Team Sets Launc...   \n",
       "2   4      Ky. Company Wins Grant to Study Peptides (AP)   \n",
       "3   4      Prediction Unit Helps Forecast Wildfires (AP)   \n",
       "4   4        Calif. Aims to Limit Farm-Related Smog (AP)   \n",
       "\n",
       "                                                Desc  \n",
       "0  Unions representing workers at Turner   Newall...  \n",
       "1  SPACE.com - TORONTO, Canada -- A second\\team o...  \n",
       "2  AP - A company founded by a chemistry research...  \n",
       "3  AP - It's barely dawn when Mike Fitzpatrick st...  \n",
       "4  AP - Southern California's smog-fighting agenc...  "
      ]
     },
     "execution_count": 4,
     "metadata": {},
     "output_type": "execute_result"
    }
   ],
   "source": [
    "test_data.head()"
   ]
  },
  {
   "cell_type": "code",
   "execution_count": 5,
   "metadata": {},
   "outputs": [
    {
     "name": "stdout",
     "output_type": "stream",
     "text": [
      "(120000, 3)\n",
      "(7600, 3)\n"
     ]
    }
   ],
   "source": [
    "print(train_data.shape)\n",
    "print(test_data.shape)\n"
   ]
  },
  {
   "cell_type": "code",
   "execution_count": 6,
   "metadata": {},
   "outputs": [],
   "source": [
    "train_x = train_data.Desc\n",
    "test_x = test_data.Desc\n",
    "train_y = train_data.ID\n",
    "test_y = test_data.ID"
   ]
  },
  {
   "cell_type": "code",
   "execution_count": 7,
   "metadata": {},
   "outputs": [
    {
     "name": "stdout",
     "output_type": "stream",
     "text": [
      "object\n"
     ]
    }
   ],
   "source": [
    "print(train_x.dtype)"
   ]
  },
  {
   "cell_type": "code",
   "execution_count": 8,
   "metadata": {},
   "outputs": [
    {
     "name": "stdout",
     "output_type": "stream",
     "text": [
      "int64\n"
     ]
    }
   ],
   "source": [
    "print(train_y.dtype)"
   ]
  },
  {
   "cell_type": "code",
   "execution_count": 9,
   "metadata": {},
   "outputs": [
    {
     "name": "stdout",
     "output_type": "stream",
     "text": [
      "<class 'pandas.core.series.Series'>\n"
     ]
    }
   ],
   "source": [
    "print(type(train_x))"
   ]
  },
  {
   "cell_type": "code",
   "execution_count": 10,
   "metadata": {},
   "outputs": [
    {
     "name": "stdout",
     "output_type": "stream",
     "text": [
      "0         Reuters - Short-sellers, Wall Street's dwindli...\n",
      "1         Reuters - Private investment firm Carlyle Grou...\n",
      "2         Reuters - Soaring crude prices plus worries\\ab...\n",
      "3         Reuters - Authorities have halted oil export\\f...\n",
      "4         AFP - Tearaway world oil prices, toppling reco...\n",
      "                                ...                        \n",
      "119995     KARACHI (Reuters) - Pakistani President Perve...\n",
      "119996    Red Sox general manager Theo Epstein acknowled...\n",
      "119997    The Miami Dolphins will put their courtship of...\n",
      "119998    PITTSBURGH at NY GIANTS Time: 1:30 p.m. Line: ...\n",
      "119999    INDIANAPOLIS -- All-Star Vince Carter was trad...\n",
      "Name: Desc, Length: 120000, dtype: object\n"
     ]
    }
   ],
   "source": [
    "print(train_x)"
   ]
  },
  {
   "cell_type": "code",
   "execution_count": 12,
   "metadata": {},
   "outputs": [
    {
     "name": "stdout",
     "output_type": "stream",
     "text": [
      "0         3\n",
      "1         3\n",
      "2         3\n",
      "3         3\n",
      "4         3\n",
      "         ..\n",
      "119995    1\n",
      "119996    2\n",
      "119997    2\n",
      "119998    2\n",
      "119999    2\n",
      "Name: ID, Length: 120000, dtype: int64\n"
     ]
    }
   ],
   "source": [
    "print(train_y)"
   ]
  },
  {
   "cell_type": "code",
   "execution_count": 13,
   "metadata": {},
   "outputs": [
    {
     "name": "stderr",
     "output_type": "stream",
     "text": [
      "[nltk_data] Downloading package stopwords to\n",
      "[nltk_data]     C:\\Users\\adity\\AppData\\Roaming\\nltk_data...\n",
      "[nltk_data]   Package stopwords is already up-to-date!\n"
     ]
    },
    {
     "data": {
      "text/plain": [
       "True"
      ]
     },
     "execution_count": 13,
     "metadata": {},
     "output_type": "execute_result"
    }
   ],
   "source": [
    "import re \n",
    "import nltk\n",
    "from nltk.corpus import stopwords\n",
    "nltk.download('stopwords')"
   ]
  },
  {
   "cell_type": "code",
   "execution_count": 14,
   "metadata": {},
   "outputs": [],
   "source": [
    "def remove_html_tag(text):\n",
    "    html = re.compile('<.*?')\n",
    "    cleaned_text = html.sub('', text)\n",
    "    return cleaned_text\n",
    "train_x = train_x.apply(remove_html_tag)\n",
    "test_x = test_x.apply(remove_html_tag)"
   ]
  },
  {
   "cell_type": "code",
   "execution_count": 15,
   "metadata": {},
   "outputs": [],
   "source": [
    "def url_remove(text):\n",
    "    url = re.compile(r'https?://\\S+|www\\.\\S+')\n",
    "    return url.sub(r'', text)\n",
    "train_x = train_x.apply(url_remove)\n",
    "test_x = test_x.apply(url_remove)"
   ]
  },
  {
   "cell_type": "code",
   "execution_count": 16,
   "metadata": {},
   "outputs": [],
   "source": [
    "def word_tokenize(text):\n",
    "    token = re.findall(\"[\\w']+\", text)\n",
    "    return token\n",
    "\n",
    "train_x = train_x.apply(word_tokenize)\n",
    "test_x = test_x.apply(word_tokenize)"
   ]
  },
  {
   "cell_type": "code",
   "execution_count": 17,
   "metadata": {},
   "outputs": [
    {
     "name": "stdout",
     "output_type": "stream",
     "text": [
      "0         [Reuters, Short, sellers, Wall, Street's, dwin...\n",
      "1         [Reuters, Private, investment, firm, Carlyle, ...\n",
      "2         [Reuters, Soaring, crude, prices, plus, worrie...\n",
      "3         [Reuters, Authorities, have, halted, oil, expo...\n",
      "4         [AFP, Tearaway, world, oil, prices, toppling, ...\n",
      "                                ...                        \n",
      "119995    [KARACHI, Reuters, Pakistani, President, Perve...\n",
      "119996    [Red, Sox, general, manager, Theo, Epstein, ac...\n",
      "119997    [The, Miami, Dolphins, will, put, their, court...\n",
      "119998    [PITTSBURGH, at, NY, GIANTS, Time, 1, 30, p, m...\n",
      "119999    [INDIANAPOLIS, All, Star, Vince, Carter, was, ...\n",
      "Name: Desc, Length: 120000, dtype: object\n"
     ]
    }
   ],
   "source": [
    "print(train_x)"
   ]
  },
  {
   "cell_type": "code",
   "execution_count": 18,
   "metadata": {},
   "outputs": [],
   "source": [
    "train_x = train_x.apply(lambda x: [word.lower() for word in x])\n",
    "test_x = test_x.apply(lambda x: [word.lower() for word in x])"
   ]
  },
  {
   "cell_type": "code",
   "execution_count": 19,
   "metadata": {},
   "outputs": [],
   "source": [
    "def remove_stopwords(lst):\n",
    "    stop_words = set(stopwords.words('english'))\n",
    "    return [word for word in lst if word.lower() not in stop_words]\n",
    "train_x = train_x.apply(remove_stopwords)\n",
    "test_x = test_x.apply(remove_stopwords)"
   ]
  },
  {
   "cell_type": "code",
   "execution_count": 20,
   "metadata": {},
   "outputs": [],
   "source": [
    "import string\n",
    "def remove_punctuations(lst):\n",
    "    return [''.join(char for char in word if char not in string.punctuation) for word in lst]\n",
    "train_x = train_x.apply(remove_punctuations)\n",
    "test_x = test_x.apply(remove_punctuations)"
   ]
  },
  {
   "cell_type": "code",
   "execution_count": 21,
   "metadata": {},
   "outputs": [],
   "source": [
    "def remove_number(lst):\n",
    "    return [''.join(char for char in word if char not in string.digits) for word in lst if word]\n",
    "train_x = train_x.apply(remove_number)\n",
    "test_x = test_x.apply(remove_number)"
   ]
  },
  {
   "cell_type": "code",
   "execution_count": 22,
   "metadata": {},
   "outputs": [],
   "source": [
    "from nltk.stem import PorterStemmer\n",
    "\n",
    "def stemming(text):\n",
    "    porter_stemmer = PorterStemmer()\n",
    "    return [porter_stemmer.stem(word) for word in text]\n",
    "train_x = train_x.apply(stemming)\n",
    "test_x = test_x.apply(stemming)"
   ]
  },
  {
   "cell_type": "code",
   "execution_count": 23,
   "metadata": {},
   "outputs": [],
   "source": [
    "def remove_extra_words(word_list):\n",
    "    stopwords = ['href', 'lt', 'gt', 'ii', 'iii', 'ie', 'quot', 'com']\n",
    "    cleaned_list = []\n",
    "    for word in word_list:\n",
    "        if word not in stopwords:\n",
    "            cleaned_list.append(word)\n",
    "    return cleaned_list\n",
    "train_x = train_x.apply(remove_extra_words)\n",
    "test_x = test_x.apply(remove_extra_words)"
   ]
  },
  {
   "cell_type": "code",
   "execution_count": 24,
   "metadata": {},
   "outputs": [
    {
     "name": "stdout",
     "output_type": "stream",
     "text": [
      "0         [reuter, short, seller, wall, street, dwindl, ...\n",
      "1         [reuter, privat, invest, firm, carlyl, group, ...\n",
      "2         [reuter, soar, crude, price, plu, worri, econo...\n",
      "3         [reuter, author, halt, oil, export, flow, main...\n",
      "4         [afp, tearaway, world, oil, price, toppl, reco...\n",
      "                                ...                        \n",
      "119995    [karachi, reuter, pakistani, presid, pervez, m...\n",
      "119996    [red, sox, gener, manag, theo, epstein, acknow...\n",
      "119997    [miami, dolphin, put, courtship, lsu, coach, n...\n",
      "119998    [pittsburgh, ny, giant, time, , , p, line, ste...\n",
      "119999    [indianapoli, star, vinc, carter, trade, toron...\n",
      "Name: Desc, Length: 120000, dtype: object\n"
     ]
    }
   ],
   "source": [
    "print(train_x)"
   ]
  },
  {
   "cell_type": "code",
   "execution_count": 25,
   "metadata": {},
   "outputs": [],
   "source": [
    "def join_words_with_space(sentence):\n",
    "    joined_sentence = ' '.join(sentence)\n",
    "    return joined_sentence\n",
    "\n",
    "train_x = train_x.apply(join_words_with_space)\n",
    "test_x = test_x.apply(join_words_with_space)"
   ]
  },
  {
   "cell_type": "code",
   "execution_count": 26,
   "metadata": {},
   "outputs": [
    {
     "name": "stdout",
     "output_type": "stream",
     "text": [
      "0         reuter short seller wall street dwindl band ul...\n",
      "1         reuter privat invest firm carlyl group reput m...\n",
      "2         reuter soar crude price plu worri economi outl...\n",
      "3         reuter author halt oil export flow main pipeli...\n",
      "4         afp tearaway world oil price toppl record stra...\n",
      "                                ...                        \n",
      "119995    karachi reuter pakistani presid pervez musharr...\n",
      "119996    red sox gener manag theo epstein acknowledg ed...\n",
      "119997    miami dolphin put courtship lsu coach nick sab...\n",
      "119998    pittsburgh ny giant time   p line steeler  rec...\n",
      "119999    indianapoli star vinc carter trade toronto rap...\n",
      "Name: Desc, Length: 120000, dtype: object\n"
     ]
    }
   ],
   "source": [
    "print(train_x)"
   ]
  },
  {
   "cell_type": "code",
   "execution_count": 27,
   "metadata": {},
   "outputs": [
    {
     "name": "stdout",
     "output_type": "stream",
     "text": [
      "No. of features extracted:\n",
      "63630\n",
      "First 100 feature names:\n",
      "['reuter', 'short', 'seller', 'wall', 'street', 'dwindl', 'band', 'ultra', 'cynic', 'see', 'green', 'wall street', 'privat', 'invest', 'firm', 'carlyl', 'group', 'reput', 'make', 'well', 'time', 'occasion', 'controversi', 'play', 'defens', 'industri', 'quietli', 'place', 'bet', 'anoth', 'part', 'market', 'reuter privat', 'privat invest', 'invest firm', 'carlyl group', 'play defens', 'soar', 'crude', 'price', 'plu', 'worri', 'economi', 'outlook', 'earn', 'expect', 'hang', 'stock', 'next', 'week', 'depth', 'summer', 'doldrum', 'soar crude', 'crude price', 'worri economi', 'economi outlook', 'earn expect', 'stock market', 'market next', 'next week', 'author', 'halt', 'oil', 'export', 'flow', 'main', 'pipelin', 'southern', 'iraq', 'intellig', 'show', 'rebel', 'militia', 'could', 'strike', 'infrastructur', 'offici', 'said', 'saturday', 'oil export', 'pipelin southern', 'southern iraq', 'rebel militia', 'oil offici', 'offici said', 'said saturday', 'pipelin southern iraq', 'oil offici said', 'offici said saturday', 'afp', 'world', 'toppl', 'record', 'strain', 'wallet', 'present', 'new', 'econom', 'menac']\n"
     ]
    }
   ],
   "source": [
    "from sklearn.feature_extraction.text import TfidfVectorizer\n",
    "\n",
    "\n",
    "tfidf = TfidfVectorizer(min_df=8, ngram_range=(1,4))\n",
    "train_arr = tfidf.fit_transform(train_x)\n",
    "test_arr = tfidf.transform(test_x)\n",
    "print(\"No. of features extracted:\")\n",
    "print(len(tfidf.vocabulary_))\n",
    "print(\"First 100 feature names:\")\n",
    "print(list(tfidf.vocabulary_.keys())[:100])\n",
    "\n",
    "# train_arr = train_1.toarray()\n",
    "# test_arr = test_1.toarray()\n",
    "\n"
   ]
  },
  {
   "cell_type": "code",
   "execution_count": 28,
   "metadata": {},
   "outputs": [
    {
     "data": {
      "text/plain": [
       "(120000, 63630)"
      ]
     },
     "execution_count": 28,
     "metadata": {},
     "output_type": "execute_result"
    }
   ],
   "source": [
    "train_arr.shape"
   ]
  },
  {
   "cell_type": "code",
   "execution_count": 29,
   "metadata": {},
   "outputs": [
    {
     "name": "stdout",
     "output_type": "stream",
     "text": [
      "<class 'scipy.sparse._csr.csr_matrix'>\n"
     ]
    }
   ],
   "source": [
    "print(type(train_arr))"
   ]
  },
  {
   "cell_type": "code",
   "execution_count": 30,
   "metadata": {},
   "outputs": [
    {
     "name": "stdout",
     "output_type": "stream",
     "text": [
      "<Compressed Sparse Row sparse matrix of dtype 'float64'\n",
      "\twith 3328101 stored elements and shape (120000, 63630)>\n",
      "  Coords\tValues\n",
      "  (0, 45518)\t0.13261356975869135\n",
      "  (0, 50368)\t0.2516974358497483\n",
      "  (0, 49228)\t0.33727291927216135\n",
      "  (0, 60306)\t0.2301548010127238\n",
      "  (0, 53415)\t0.218923822530067\n",
      "  (0, 14921)\t0.3756288942243625\n",
      "  (0, 4364)\t0.3078728660075022\n",
      "  (0, 58320)\t0.3521298085606761\n",
      "  (0, 12457)\t0.40779847927615775\n",
      "  (0, 49092)\t0.23818287207411454\n",
      "  (0, 21935)\t0.2561941286226132\n",
      "  (0, 60307)\t0.23635961089149665\n",
      "  (1, 45518)\t0.08956690017099833\n",
      "  (1, 42236)\t0.16632343954172832\n",
      "  (1, 25947)\t0.16009554619520633\n",
      "  (1, 18206)\t0.1453347567056614\n",
      "  (1, 7793)\t0.2913966944796007\n",
      "  (1, 22041)\t0.11946319479665723\n",
      "  (1, 45073)\t0.21858778850507699\n",
      "  (1, 31079)\t0.12561930313592773\n",
      "  (1, 61192)\t0.155262503716684\n",
      "  (1, 56361)\t0.11327059772230029\n",
      "  (1, 37066)\t0.25797769401636444\n",
      "  (1, 11114)\t0.1766898703638303\n",
      "  (1, 40631)\t0.1354568272424295\n",
      "  :\t:\n",
      "  (119999, 46831)\t0.11679530435873219\n",
      "  (119999, 27018)\t0.16165996323250525\n",
      "  (119999, 61497)\t0.2662636301182507\n",
      "  (119999, 7846)\t0.17049892955017165\n",
      "  (119999, 35789)\t0.16594257592403705\n",
      "  (119999, 57013)\t0.13467305065136653\n",
      "  (119999, 14571)\t0.15469152747702844\n",
      "  (119999, 18446)\t0.15009774918564747\n",
      "  (119999, 46845)\t0.2019865923282647\n",
      "  (119999, 14573)\t0.19856942033164665\n",
      "  (119999, 18447)\t0.21006990560270858\n",
      "  (119999, 46847)\t0.20920047108042836\n",
      "  (119999, 18448)\t0.21501649354919902\n",
      "  (119999, 6)\t0.17662960584079254\n",
      "  (119999, 25064)\t0.15781892098470615\n",
      "  (119999, 43792)\t0.17439230644564852\n",
      "  (119999, 57025)\t0.1816744987764895\n",
      "  (119999, 27020)\t0.18631531996162815\n",
      "  (119999, 35791)\t0.18631531996162815\n",
      "  (119999, 34398)\t0.17511327206228686\n",
      "  (119999, 1585)\t0.200212226496716\n",
      "  (119999, 1586)\t0.20137921902678724\n",
      "  (119999, 59961)\t0.18192218558498421\n",
      "  (119999, 59962)\t0.18821657645869214\n",
      "  (119999, 16265)\t0.2199630814956894\n"
     ]
    }
   ],
   "source": [
    "print(train_arr)"
   ]
  },
  {
   "cell_type": "code",
   "execution_count": 31,
   "metadata": {},
   "outputs": [
    {
     "data": {
      "text/html": [
       "<div>\n",
       "<style scoped>\n",
       "    .dataframe tbody tr th:only-of-type {\n",
       "        vertical-align: middle;\n",
       "    }\n",
       "\n",
       "    .dataframe tbody tr th {\n",
       "        vertical-align: top;\n",
       "    }\n",
       "\n",
       "    .dataframe thead th {\n",
       "        text-align: right;\n",
       "    }\n",
       "</style>\n",
       "<table border=\"1\" class=\"dataframe\">\n",
       "  <thead>\n",
       "    <tr style=\"text-align: right;\">\n",
       "      <th></th>\n",
       "      <th>aa</th>\n",
       "      <th>aa billion</th>\n",
       "      <th>aa footbal</th>\n",
       "      <th>aaa</th>\n",
       "      <th>aapl</th>\n",
       "      <th>aapl news</th>\n",
       "      <th>aaron</th>\n",
       "      <th>aaron peirsol</th>\n",
       "      <th>aaron rodger</th>\n",
       "      <th>ab</th>\n",
       "      <th>...</th>\n",
       "      <th>zone</th>\n",
       "      <th>zoo</th>\n",
       "      <th>zook</th>\n",
       "      <th>zook fire</th>\n",
       "      <th>zoom</th>\n",
       "      <th>zurich</th>\n",
       "      <th>zurich challeng</th>\n",
       "      <th>zurich reuter</th>\n",
       "      <th>zurich switzerland</th>\n",
       "      <th>zvonareva</th>\n",
       "    </tr>\n",
       "  </thead>\n",
       "  <tbody>\n",
       "    <tr>\n",
       "      <th>0</th>\n",
       "      <td>0</td>\n",
       "      <td>0</td>\n",
       "      <td>0</td>\n",
       "      <td>0</td>\n",
       "      <td>0</td>\n",
       "      <td>0</td>\n",
       "      <td>0</td>\n",
       "      <td>0</td>\n",
       "      <td>0</td>\n",
       "      <td>0</td>\n",
       "      <td>...</td>\n",
       "      <td>0</td>\n",
       "      <td>0</td>\n",
       "      <td>0</td>\n",
       "      <td>0</td>\n",
       "      <td>0</td>\n",
       "      <td>0</td>\n",
       "      <td>0</td>\n",
       "      <td>0</td>\n",
       "      <td>0</td>\n",
       "      <td>0</td>\n",
       "    </tr>\n",
       "    <tr>\n",
       "      <th>1</th>\n",
       "      <td>0</td>\n",
       "      <td>0</td>\n",
       "      <td>0</td>\n",
       "      <td>0</td>\n",
       "      <td>0</td>\n",
       "      <td>0</td>\n",
       "      <td>0</td>\n",
       "      <td>0</td>\n",
       "      <td>0</td>\n",
       "      <td>0</td>\n",
       "      <td>...</td>\n",
       "      <td>0</td>\n",
       "      <td>0</td>\n",
       "      <td>0</td>\n",
       "      <td>0</td>\n",
       "      <td>0</td>\n",
       "      <td>0</td>\n",
       "      <td>0</td>\n",
       "      <td>0</td>\n",
       "      <td>0</td>\n",
       "      <td>0</td>\n",
       "    </tr>\n",
       "    <tr>\n",
       "      <th>2</th>\n",
       "      <td>0</td>\n",
       "      <td>0</td>\n",
       "      <td>0</td>\n",
       "      <td>0</td>\n",
       "      <td>0</td>\n",
       "      <td>0</td>\n",
       "      <td>0</td>\n",
       "      <td>0</td>\n",
       "      <td>0</td>\n",
       "      <td>0</td>\n",
       "      <td>...</td>\n",
       "      <td>0</td>\n",
       "      <td>0</td>\n",
       "      <td>0</td>\n",
       "      <td>0</td>\n",
       "      <td>0</td>\n",
       "      <td>0</td>\n",
       "      <td>0</td>\n",
       "      <td>0</td>\n",
       "      <td>0</td>\n",
       "      <td>0</td>\n",
       "    </tr>\n",
       "    <tr>\n",
       "      <th>3</th>\n",
       "      <td>0</td>\n",
       "      <td>0</td>\n",
       "      <td>0</td>\n",
       "      <td>0</td>\n",
       "      <td>0</td>\n",
       "      <td>0</td>\n",
       "      <td>0</td>\n",
       "      <td>0</td>\n",
       "      <td>0</td>\n",
       "      <td>0</td>\n",
       "      <td>...</td>\n",
       "      <td>0</td>\n",
       "      <td>0</td>\n",
       "      <td>0</td>\n",
       "      <td>0</td>\n",
       "      <td>0</td>\n",
       "      <td>0</td>\n",
       "      <td>0</td>\n",
       "      <td>0</td>\n",
       "      <td>0</td>\n",
       "      <td>0</td>\n",
       "    </tr>\n",
       "    <tr>\n",
       "      <th>4</th>\n",
       "      <td>0</td>\n",
       "      <td>0</td>\n",
       "      <td>0</td>\n",
       "      <td>0</td>\n",
       "      <td>0</td>\n",
       "      <td>0</td>\n",
       "      <td>0</td>\n",
       "      <td>0</td>\n",
       "      <td>0</td>\n",
       "      <td>0</td>\n",
       "      <td>...</td>\n",
       "      <td>0</td>\n",
       "      <td>0</td>\n",
       "      <td>0</td>\n",
       "      <td>0</td>\n",
       "      <td>0</td>\n",
       "      <td>0</td>\n",
       "      <td>0</td>\n",
       "      <td>0</td>\n",
       "      <td>0</td>\n",
       "      <td>0</td>\n",
       "    </tr>\n",
       "    <tr>\n",
       "      <th>...</th>\n",
       "      <td>...</td>\n",
       "      <td>...</td>\n",
       "      <td>...</td>\n",
       "      <td>...</td>\n",
       "      <td>...</td>\n",
       "      <td>...</td>\n",
       "      <td>...</td>\n",
       "      <td>...</td>\n",
       "      <td>...</td>\n",
       "      <td>...</td>\n",
       "      <td>...</td>\n",
       "      <td>...</td>\n",
       "      <td>...</td>\n",
       "      <td>...</td>\n",
       "      <td>...</td>\n",
       "      <td>...</td>\n",
       "      <td>...</td>\n",
       "      <td>...</td>\n",
       "      <td>...</td>\n",
       "      <td>...</td>\n",
       "      <td>...</td>\n",
       "    </tr>\n",
       "    <tr>\n",
       "      <th>95</th>\n",
       "      <td>0</td>\n",
       "      <td>0</td>\n",
       "      <td>0</td>\n",
       "      <td>0</td>\n",
       "      <td>0</td>\n",
       "      <td>0</td>\n",
       "      <td>0</td>\n",
       "      <td>0</td>\n",
       "      <td>0</td>\n",
       "      <td>0</td>\n",
       "      <td>...</td>\n",
       "      <td>0</td>\n",
       "      <td>0</td>\n",
       "      <td>0</td>\n",
       "      <td>0</td>\n",
       "      <td>0</td>\n",
       "      <td>0</td>\n",
       "      <td>0</td>\n",
       "      <td>0</td>\n",
       "      <td>0</td>\n",
       "      <td>0</td>\n",
       "    </tr>\n",
       "    <tr>\n",
       "      <th>96</th>\n",
       "      <td>0</td>\n",
       "      <td>0</td>\n",
       "      <td>0</td>\n",
       "      <td>0</td>\n",
       "      <td>0</td>\n",
       "      <td>0</td>\n",
       "      <td>0</td>\n",
       "      <td>0</td>\n",
       "      <td>0</td>\n",
       "      <td>0</td>\n",
       "      <td>...</td>\n",
       "      <td>0</td>\n",
       "      <td>0</td>\n",
       "      <td>0</td>\n",
       "      <td>0</td>\n",
       "      <td>0</td>\n",
       "      <td>0</td>\n",
       "      <td>0</td>\n",
       "      <td>0</td>\n",
       "      <td>0</td>\n",
       "      <td>0</td>\n",
       "    </tr>\n",
       "    <tr>\n",
       "      <th>97</th>\n",
       "      <td>0</td>\n",
       "      <td>0</td>\n",
       "      <td>0</td>\n",
       "      <td>0</td>\n",
       "      <td>0</td>\n",
       "      <td>0</td>\n",
       "      <td>0</td>\n",
       "      <td>0</td>\n",
       "      <td>0</td>\n",
       "      <td>0</td>\n",
       "      <td>...</td>\n",
       "      <td>0</td>\n",
       "      <td>0</td>\n",
       "      <td>0</td>\n",
       "      <td>0</td>\n",
       "      <td>0</td>\n",
       "      <td>0</td>\n",
       "      <td>0</td>\n",
       "      <td>0</td>\n",
       "      <td>0</td>\n",
       "      <td>0</td>\n",
       "    </tr>\n",
       "    <tr>\n",
       "      <th>98</th>\n",
       "      <td>0</td>\n",
       "      <td>0</td>\n",
       "      <td>0</td>\n",
       "      <td>0</td>\n",
       "      <td>0</td>\n",
       "      <td>0</td>\n",
       "      <td>0</td>\n",
       "      <td>0</td>\n",
       "      <td>0</td>\n",
       "      <td>0</td>\n",
       "      <td>...</td>\n",
       "      <td>0</td>\n",
       "      <td>0</td>\n",
       "      <td>0</td>\n",
       "      <td>0</td>\n",
       "      <td>0</td>\n",
       "      <td>0</td>\n",
       "      <td>0</td>\n",
       "      <td>0</td>\n",
       "      <td>0</td>\n",
       "      <td>0</td>\n",
       "    </tr>\n",
       "    <tr>\n",
       "      <th>99</th>\n",
       "      <td>0</td>\n",
       "      <td>0</td>\n",
       "      <td>0</td>\n",
       "      <td>0</td>\n",
       "      <td>0</td>\n",
       "      <td>0</td>\n",
       "      <td>0</td>\n",
       "      <td>0</td>\n",
       "      <td>0</td>\n",
       "      <td>0</td>\n",
       "      <td>...</td>\n",
       "      <td>0</td>\n",
       "      <td>0</td>\n",
       "      <td>0</td>\n",
       "      <td>0</td>\n",
       "      <td>0</td>\n",
       "      <td>0</td>\n",
       "      <td>0</td>\n",
       "      <td>0</td>\n",
       "      <td>0</td>\n",
       "      <td>0</td>\n",
       "    </tr>\n",
       "  </tbody>\n",
       "</table>\n",
       "<p>100 rows × 63630 columns</p>\n",
       "</div>"
      ],
      "text/plain": [
       "    aa  aa billion  aa footbal  aaa  aapl  aapl news  aaron  aaron peirsol  \\\n",
       "0    0           0           0    0     0          0      0              0   \n",
       "1    0           0           0    0     0          0      0              0   \n",
       "2    0           0           0    0     0          0      0              0   \n",
       "3    0           0           0    0     0          0      0              0   \n",
       "4    0           0           0    0     0          0      0              0   \n",
       "..  ..         ...         ...  ...   ...        ...    ...            ...   \n",
       "95   0           0           0    0     0          0      0              0   \n",
       "96   0           0           0    0     0          0      0              0   \n",
       "97   0           0           0    0     0          0      0              0   \n",
       "98   0           0           0    0     0          0      0              0   \n",
       "99   0           0           0    0     0          0      0              0   \n",
       "\n",
       "    aaron rodger  ab  ...  zone  zoo  zook  zook fire  zoom  zurich  \\\n",
       "0              0   0  ...     0    0     0          0     0       0   \n",
       "1              0   0  ...     0    0     0          0     0       0   \n",
       "2              0   0  ...     0    0     0          0     0       0   \n",
       "3              0   0  ...     0    0     0          0     0       0   \n",
       "4              0   0  ...     0    0     0          0     0       0   \n",
       "..           ...  ..  ...   ...  ...   ...        ...   ...     ...   \n",
       "95             0   0  ...     0    0     0          0     0       0   \n",
       "96             0   0  ...     0    0     0          0     0       0   \n",
       "97             0   0  ...     0    0     0          0     0       0   \n",
       "98             0   0  ...     0    0     0          0     0       0   \n",
       "99             0   0  ...     0    0     0          0     0       0   \n",
       "\n",
       "    zurich challeng  zurich reuter  zurich switzerland  zvonareva  \n",
       "0                 0              0                   0          0  \n",
       "1                 0              0                   0          0  \n",
       "2                 0              0                   0          0  \n",
       "3                 0              0                   0          0  \n",
       "4                 0              0                   0          0  \n",
       "..              ...            ...                 ...        ...  \n",
       "95                0              0                   0          0  \n",
       "96                0              0                   0          0  \n",
       "97                0              0                   0          0  \n",
       "98                0              0                   0          0  \n",
       "99                0              0                   0          0  \n",
       "\n",
       "[100 rows x 63630 columns]"
      ]
     },
     "execution_count": 31,
     "metadata": {},
     "output_type": "execute_result"
    }
   ],
   "source": [
    "feature_names = tfidf.get_feature_names_out()\n",
    "pd.DataFrame.sparse.from_spmatrix(train_arr[:100], columns=feature_names)"
   ]
  },
  {
   "cell_type": "code",
   "execution_count": 32,
   "metadata": {},
   "outputs": [],
   "source": [
    "from sklearn.naive_bayes import MultinomialNB \n",
    "from sklearn.metrics import confusion_matrix\n",
    "from sklearn.metrics import f1_score, accuracy_score"
   ]
  },
  {
   "cell_type": "code",
   "execution_count": 33,
   "metadata": {},
   "outputs": [],
   "source": [
    "\n",
    "NB_MN=MultinomialNB(alpha=0.40)\n",
    "NB_MN.fit(train_arr,train_y)\n",
    "pred=NB_MN.predict(test_arr)"
   ]
  },
  {
   "cell_type": "code",
   "execution_count": 34,
   "metadata": {},
   "outputs": [
    {
     "name": "stdout",
     "output_type": "stream",
     "text": [
      "first 20 actual labels\n",
      "[3, 4, 4, 4, 4, 4, 4, 4, 4, 4, 4, 4, 4, 4, 4, 4, 4, 4, 4, 4]\n",
      "first 20 predicted labels\n",
      "[3, 4, 4, 4, 4, 4, 4, 4, 1, 4, 4, 4, 4, 4, 4, 4, 4, 4, 4, 3]\n"
     ]
    }
   ],
   "source": [
    "print(\"first 20 actual labels\")\n",
    "print(test_y.tolist()[:20])\n",
    "print(\"first 20 predicted labels\")\n",
    "print(pred.tolist()[:20])"
   ]
  },
  {
   "cell_type": "code",
   "execution_count": 35,
   "metadata": {},
   "outputs": [
    {
     "name": "stdout",
     "output_type": "stream",
     "text": [
      "F1 score of Naive Bayes:\n",
      "0.8964473684210527\n",
      "Accuracy of Naive Bayes:\n",
      "0.8964473684210527\n",
      "Accuracy of Naive Bayes in percentage:\n",
      "89.645 %\n"
     ]
    }
   ],
   "source": [
    "print(\"F1 score of Naive Bayes:\")\n",
    "f1 = f1_score(test_y, pred, average='micro')\n",
    "print(f1)\n",
    "print(\"Accuracy of Naive Bayes:\")\n",
    "accuracy = accuracy_score(test_y, pred)\n",
    "print(accuracy)\n",
    "print(\"Accuracy of Naive Bayes in percentage:\")\n",
    "accuracy_percentage = round(accuracy * 100, 3)\n",
    "print(accuracy_percentage, \"%\")"
   ]
  },
  {
   "cell_type": "code",
   "execution_count": 36,
   "metadata": {},
   "outputs": [],
   "source": [
    "import seaborn as sns"
   ]
  },
  {
   "cell_type": "code",
   "execution_count": 37,
   "metadata": {},
   "outputs": [
    {
     "data": {
      "image/png": "[encoded data removed]",
      "text/plain": [
       "<Figure size 400x400 with 2 Axes>"
      ]
     },
     "metadata": {},
     "output_type": "display_data"
    }
   ],
   "source": [
    "conf_matrix = confusion_matrix(test_y, pred)\n",
    "conf_matrix_df = pd.DataFrame(conf_matrix, index=['World', 'Sports', 'Business', 'Science'], columns=['World', 'Sports', 'Business', 'Science'])\n",
    "sns.set(font_scale=1)\n",
    "plt.figure(figsize=(4, 4))\n",
    "sns.heatmap(conf_matrix_df, cmap=\"YlGnBu\", linewidths=1, annot=True, square=True, cbar=True, fmt='d')\n",
    "plt.xlabel(\"Predicted Values\")\n",
    "plt.ylabel(\"Actual Values\")\n",
    "plt.title(\"News Classification Multinomial(ENG)\")\n",
    "plt.xticks(rotation=45)\n",
    "plt.yticks(rotation=0)\n",
    "plt.show()"
   ]
  },
  {
   "cell_type": "code",
   "execution_count": 37,
   "metadata": {},
   "outputs": [],
   "source": [
    "from sklearn.tree import DecisionTreeClassifier"
   ]
  },
  {
   "cell_type": "code",
   "execution_count": null,
   "metadata": {},
   "outputs": [],
   "source": [
    "\n",
    "DT=DecisionTreeClassifier()\n",
    "DT.fit(train_arr,train_y)\n",
    "pred=DT.predict(test_arr)\n",
    "\n",
    "print(\"first 20 actual labels\")\n",
    "print(test_y.tolist()[:20])\n",
    "print(\"first 20 predicted labels\")\n",
    "print(pred.tolist()[:20])"
   ]
  },
  {
   "cell_type": "code",
   "execution_count": null,
   "metadata": {},
   "outputs": [],
   "source": [
    "print(\"F1 score of DTree:\")\n",
    "f1 = f1_score(test_y, pred, average='micro')\n",
    "print(f1)\n",
    "print(\"Accuracy of DTree:\")\n",
    "accuracy = accuracy_score(test_y, pred)\n",
    "print(accuracy)\n",
    "print(\"Accuracy of DTree in percentage:\")\n",
    "accuracy_percentage = round(accuracy * 100, 3)\n",
    "print(accuracy_percentage, \"%\")"
   ]
  },
  {
   "cell_type": "code",
   "execution_count": 39,
   "metadata": {},
   "outputs": [],
   "source": [
    "from sklearn.neighbors import KNeighborsClassifier\n"
   ]
  },
  {
   "cell_type": "code",
   "execution_count": 92,
   "metadata": {},
   "outputs": [
    {
     "name": "stdout",
     "output_type": "stream",
     "text": [
      "first 20 actual labels\n",
      "[3, 4, 4, 4, 4, 4, 4, 4, 4, 4, 4, 4, 4, 4, 4, 4, 4, 4, 4, 4]\n",
      "first 20 predicted labels\n",
      "[3, 4, 4, 4, 2, 4, 4, 4, 4, 4, 4, 4, 4, 4, 4, 4, 4, 4, 4, 3]\n"
     ]
    }
   ],
   "source": [
    "Knn = KNeighborsClassifier(n_neighbors = 25, metric = 'minkowski', p = 2)\n",
    "Knn.fit(train_arr,train_y)\n",
    "\n",
    "pred=Knn.predict(test_arr)\n",
    "\n",
    "print(\"first 20 actual labels\")\n",
    "print(test_y.tolist()[:20])\n",
    "print(\"first 20 predicted labels\")\n",
    "print(pred.tolist()[:20])"
   ]
  },
  {
   "cell_type": "code",
   "execution_count": 93,
   "metadata": {},
   "outputs": [
    {
     "name": "stdout",
     "output_type": "stream",
     "text": [
      "F1 score of Knn:\n",
      "0.8956578947368421\n",
      "Accuracy of Knn:\n",
      "0.8956578947368421\n",
      "Accuracy of Knn in percentage:\n",
      "89.566 %\n"
     ]
    }
   ],
   "source": [
    "print(\"F1 score of Knn:\")\n",
    "f1 = f1_score(test_y, pred, average='micro')\n",
    "print(f1)\n",
    "print(\"Accuracy of Knn:\")\n",
    "accuracy = accuracy_score(test_y, pred)\n",
    "print(accuracy)\n",
    "print(\"Accuracy of Knn in percentage:\")\n",
    "accuracy_percentage = round(accuracy * 100, 3)\n",
    "print(accuracy_percentage, \"%\")"
   ]
  },
  {
   "cell_type": "code",
   "execution_count": 155,
   "metadata": {},
   "outputs": [
    {
     "data": {
      "image/png": "[encoded data removed]",
      "text/plain": [
       "<Figure size 400x400 with 2 Axes>"
      ]
     },
     "metadata": {},
     "output_type": "display_data"
    }
   ],
   "source": [
    "conf_matrix = confusion_matrix(test_y, pred)\n",
    "conf_matrix_df = pd.DataFrame(conf_matrix, index=['World', 'Sports', 'Business', 'Science'], columns=['World', 'Sports', 'Business', 'Science'])\n",
    "sns.set(font_scale=1)\n",
    "plt.figure(figsize=(4, 4))\n",
    "sns.heatmap(conf_matrix_df, cmap=\"YlGnBu\", linewidths=1, annot=True, square=True, cbar=True, fmt='d')\n",
    "plt.xlabel(\"Predicted Values\")\n",
    "plt.ylabel(\"Actual Values\")\n",
    "plt.title(\"News Classification Multinomial(ENG)\")\n",
    "plt.xticks(rotation=45)\n",
    "plt.yticks(rotation=0)\n",
    "plt.show()"
   ]
  },
  {
   "cell_type": "code",
   "execution_count": 39,
   "metadata": {},
   "outputs": [],
   "source": [
    "from sklearn.svm import SVC\n"
   ]
  },
  {
   "cell_type": "code",
   "execution_count": null,
   "metadata": {},
   "outputs": [],
   "source": [
    "svm = SVC(kernel=\"linear\",random_state=0)\n",
    "svm.fit(train_arr,train_y)\n",
    "\n",
    "pred=svm.predict(test_arr)\n",
    "\n",
    "print(\"first 20 actual labels\")\n",
    "print(test_y.tolist()[:20])\n",
    "print(\"first 20 predicted labels\")\n",
    "print(pred.tolist()[:20])"
   ]
  },
  {
   "cell_type": "code",
   "execution_count": null,
   "metadata": {},
   "outputs": [],
   "source": [
    "print(\"F1 score of svm:\")\n",
    "f1 = f1_score(test_y, pred, average='micro')\n",
    "print(f1)\n",
    "print(\"Accuracy of svm:\")\n",
    "accuracy = accuracy_score(test_y, pred)\n",
    "print(accuracy)\n",
    "print(\"Accuracy of svm in percentage:\")\n",
    "accuracy_percentage = round(accuracy * 100, 3)\n",
    "print(accuracy_percentage, \"%\")"
   ]
  },
  {
   "cell_type": "code",
   "execution_count": 74,
   "metadata": {},
   "outputs": [],
   "source": [
    "from sklearn.svm import SVC"
   ]
  },
  {
   "cell_type": "code",
   "execution_count": null,
   "metadata": {},
   "outputs": [],
   "source": [
    "ksvm = SVC(kernel = 'rbf', random_state = 0)\n",
    "ksvm.fit(train_arr,train_y)\n",
    "\n",
    "pred=ksvm.predict(test_arr)\n",
    "\n",
    "print(\"first 20 actual labels\")\n",
    "print(test_y.tolist()[:20])\n",
    "print(\"first 20 predicted labels\")\n",
    "print(pred.tolist()[:20])"
   ]
  },
  {
   "cell_type": "code",
   "execution_count": null,
   "metadata": {},
   "outputs": [],
   "source": [
    "print(\"F1 score of ksvm:\")\n",
    "f1 = f1_score(test_y, pred, average='micro')\n",
    "print(f1)\n",
    "print(\"Accuracy of ksvm:\")\n",
    "accuracy = accuracy_score(test_y, pred)\n",
    "print(accuracy)\n",
    "print(\"Accuracy of ksvm in percentage:\")\n",
    "accuracy_percentage = round(accuracy * 100, 3)\n",
    "print(accuracy_percentage, \"%\")"
   ]
  },
  {
   "cell_type": "code",
   "execution_count": 95,
   "metadata": {},
   "outputs": [
    {
     "name": "stdout",
     "output_type": "stream",
     "text": [
      "first 20 actual labels\n",
      "[3, 4, 4, 4, 4, 4, 4, 4, 4, 4, 4, 4, 4, 4, 4, 4, 4, 4, 4, 4]\n",
      "first 20 predicted labels\n",
      "[3, 4, 4, 2, 4, 4, 4, 4, 1, 4, 4, 4, 4, 4, 4, 3, 4, 4, 4, 3]\n"
     ]
    }
   ],
   "source": [
    "from sklearn.ensemble import RandomForestClassifier\n",
    "Rf = RandomForestClassifier(n_estimators = 100, criterion = 'entropy', random_state = 0)\n",
    "Rf.fit(train_arr,train_y)\n",
    "\n",
    "pred=Rf.predict(test_arr)\n",
    "\n",
    "print(\"first 20 actual labels\")\n",
    "print(test_y.tolist()[:20])\n",
    "print(\"first 20 predicted labels\")\n",
    "print(pred.tolist()[:20])"
   ]
  },
  {
   "cell_type": "code",
   "execution_count": 96,
   "metadata": {},
   "outputs": [
    {
     "name": "stdout",
     "output_type": "stream",
     "text": [
      "F1 score of Rf:\n",
      "0.8875\n",
      "Accuracy of Rf:\n",
      "0.8875\n",
      "Accuracy of Rf in percentage:\n",
      "88.75 %\n"
     ]
    }
   ],
   "source": [
    "print(\"F1 score of Rf:\")\n",
    "f1 = f1_score(test_y, pred, average='micro')\n",
    "print(f1)\n",
    "print(\"Accuracy of Rf:\")\n",
    "accuracy = accuracy_score(test_y, pred)\n",
    "print(accuracy)\n",
    "print(\"Accuracy of Rf in percentage:\")\n",
    "accuracy_percentage = round(accuracy * 100, 3)\n",
    "print(accuracy_percentage, \"%\")"
   ]
  },
  {
   "cell_type": "code",
   "execution_count": 1,
   "metadata": {},
   "outputs": [],
   "source": [
    "def whichtype(hey):\n",
    "    cat = {\n",
    "        1:\"World\",\n",
    "        2:\"Sports\",\n",
    "        3:\"Business\",\n",
    "        4:\"Science\"\n",
    "    }\n",
    "    return cat.get(hey,-1)"
   ]
  },
  {
   "cell_type": "code",
   "execution_count": 53,
   "metadata": {},
   "outputs": [],
   "source": [
    "Mul = NB_MN.predict(tfidf.transform([\"sachine tendulkar century\"]))\n",
    "Kay =Knn.predict(tfidf.transform([\"Anant Amabi becomes bankrupt\"]))\n"
   ]
  },
  {
   "cell_type": "code",
   "execution_count": 54,
   "metadata": {},
   "outputs": [
    {
     "name": "stdout",
     "output_type": "stream",
     "text": [
      "Sports\n"
     ]
    }
   ],
   "source": [
    "y =whichtype(Mul[0])\n",
    "z =whichtype(Kay[0])\n",
    "print(y)\n",
    "print(z)\n",
    "    "
   ]
  },
  {
   "cell_type": "code",
   "execution_count": 154,
   "metadata": {},
   "outputs": [
    {
     "data": {
      "text/plain": [
       "['Knn.joblib']"
      ]
     },
     "execution_count": 154,
     "metadata": {},
     "output_type": "execute_result"
    }
   ],
   "source": [
    "import joblib\n",
    "\n",
    "joblib.dump(tfidf,'tokenization.joblib')\n",
    "joblib.dump(NB_MN, 'Multinomial.joblib')\n",
    "joblib.dump(Rf,\"Rf.joblib\")\n",
    "joblib.dump(Knn, \"Knn.joblib\")\n",
    "\n",
    "\n"
   ]
  },
  {
   "cell_type": "code",
   "execution_count": 157,
   "metadata": {},
   "outputs": [
    {
     "data": {
      "text/plain": [
       "['Multinomial.pkl']"
      ]
     },
     "execution_count": 157,
     "metadata": {},
     "output_type": "execute_result"
    }
   ],
   "source": [
    "joblib.dump(tfidf,\"tokenization.pkl\")\n",
    "joblib.dump(NB_MN, 'Multinomial.pkl')"
   ]
  },
  {
   "cell_type": "code",
   "execution_count": 40,
   "metadata": {},
   "outputs": [],
   "source": [
    "# To load the model later\n",
    "loaded_model = joblib.load('model_filename.joblib')\n",
    "loaded_tfidf = joblib.load('tokenization.joblib')"
   ]
  },
  {
   "cell_type": "code",
   "execution_count": 42,
   "metadata": {},
   "outputs": [
    {
     "data": {
      "text/plain": [
       "array([3], dtype=int64)"
      ]
     },
     "execution_count": 42,
     "metadata": {},
     "output_type": "execute_result"
    }
   ],
   "source": [
    "loaded_model.predict(loaded_tfidf.transform([\"Anant Amabi becomes bankrupt\"]))"
   ]
  }
 ],
 "metadata": {
  "kernelspec": {
   "display_name": "Python 3",
   "language": "python",
   "name": "python3"
  },
  "language_info": {
   "codemirror_mode": {
    "name": "ipython",
    "version": 3
   },
   "file_extension": ".py",
   "mimetype": "text/x-python",
   "name": "python",
   "nbconvert_exporter": "python",
   "pygments_lexer": "ipython3",
   "version": "3.10.0"
  }
 },
 "nbformat": 4,
 "nbformat_minor": 2
}
